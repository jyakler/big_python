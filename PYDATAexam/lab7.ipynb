{
 "cells": [
  {
   "cell_type": "code",
   "execution_count": null,
   "id": "004816ff-9c33-4678-9ede-a5b1cc1d7829",
   "metadata": {},
   "outputs": [],
   "source": [
    "\"\"\"\n",
    "gs25사이트의 상품명 가격 추출\n",
    "\"\"\"\n"
   ]
  },
  {
   "cell_type": "code",
   "execution_count": 51,
   "id": "08aa5f46-073e-436e-90e3-24e6f037b948",
   "metadata": {
    "tags": []
   },
   "outputs": [],
   "source": [
    "from selenium import webdriver\n",
    "import re\n",
    "import time\n",
    "\n",
    "driver = webdriver.Chrome('C:/Temp/chromedriver')\n",
    "url=\"http://gs25.gsretail.com/gscvs/ko/products/event-goods\"\n",
    "driver.get(url)\n",
    "time.sleep(1)\n",
    "\n",
    "tto=driver.find_element_by_id(\"TWO_TO_ONE\")\n",
    "tto.click()\n",
    "time.sleep(1)\n",
    "\n",
    "goodsname=[]\n",
    "goodsprice=[]\n",
    "last=driver.find_element_by_link_text(\"마지막 페이지로 이동\")\n",
    "last_num=re.sub(\"[\\D]\",\"\",last.get_attribute('onclick'))\n",
    "\n",
    "count=1\n",
    "while(True):\n",
    "    n=driver.find_elements_by_css_selector(\"div:nth-child(5)>ul.prod_list>li>div.prod_box>p.tit\")\n",
    "    p=driver.find_elements_by_css_selector(\"div:nth-child(5)>ul.prod_list>li>div.prod_box>p.price>span.cost\")\n",
    "\n",
    "    for a in p:\n",
    "        goodsprice.append(re.sub('[원,]','',a.text))\n",
    "    for a in n:\n",
    "        goodsname.append(a.text.strip())\n",
    "    \n",
    "    count=count+1\n",
    "    if(count>int(last_num)):break\n",
    "    nextp=driver.find_element_by_link_text(\"다음 페이지로 이동\")\n",
    "    nextp.click()\n",
    "    time.sleep(1)\n",
    "\n",
    "with open('output/gs25_twotoone.csv','wt',encoding=\"utf-8\") as f:\n",
    "    f.write(\"goodsname,goodsprice\\n\")\n",
    "    for a in range(len(goodsprice)):\n",
    "        f.write(goodsname[a]+\",\"+goodsprice[a]+\"\\n\")"
   ]
  },
  {
   "cell_type": "code",
   "execution_count": null,
   "id": "9c76efaf-56cc-4724-8a7a-7ee56d365705",
   "metadata": {},
   "outputs": [],
   "source": []
  }
 ],
 "metadata": {
  "kernelspec": {
   "display_name": "pydatavenv",
   "language": "python",
   "name": "pydatavenv"
  },
  "language_info": {
   "codemirror_mode": {
    "name": "ipython",
    "version": 3
   },
   "file_extension": ".py",
   "mimetype": "text/x-python",
   "name": "python",
   "nbconvert_exporter": "python",
   "pygments_lexer": "ipython3",
   "version": "3.9.12"
  }
 },
 "nbformat": 4,
 "nbformat_minor": 5
}
