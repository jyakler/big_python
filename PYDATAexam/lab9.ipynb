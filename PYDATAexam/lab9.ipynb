{
 "cells": [
  {
   "cell_type": "code",
   "execution_count": 1,
   "id": "14a9ddae-fe35-4d55-b3b5-1b0aff315bb5",
   "metadata": {},
   "outputs": [],
   "source": [
    "import pandas as pd\n"
   ]
  },
  {
   "cell_type": "code",
   "execution_count": 3,
   "id": "93e10112-a950-40c0-8a9a-9cba72f4c503",
   "metadata": {
    "tags": []
   },
   "outputs": [
    {
     "name": "stdout",
     "output_type": "stream",
     "text": [
      "<class 'pandas.core.series.Series'>\n",
      "0    10\n",
      "1    20\n",
      "2    30\n",
      "3    40\n",
      "4    50\n",
      "dtype: int64\n"
     ]
    }
   ],
   "source": [
    "a=pd.Series([10,20,30,40,50])\n",
    "print(type(a))\n",
    "print(a)"
   ]
  },
  {
   "cell_type": "code",
   "execution_count": 4,
   "id": "6730b150-9b43-4f56-bccd-1302f799a44e",
   "metadata": {
    "collapsed": true,
    "jupyter": {
     "outputs_hidden": true
    },
    "tags": []
   },
   "outputs": [
    {
     "name": "stdout",
     "output_type": "stream",
     "text": [
      "<class 'pandas.core.series.Series'>\n",
      "a    1\n",
      "b    2\n",
      "c    3\n",
      "d    4\n",
      "e    5\n",
      "dtype: int64\n"
     ]
    }
   ],
   "source": [
    "a=pd.Series({'a':1,'b':2,'c':3,'d':4,'e':5})\n",
    "print(type(a))\n",
    "print(a)"
   ]
  },
  {
   "cell_type": "code",
   "execution_count": 5,
   "id": "2369da33-9e46-4d5f-a96c-852e61165831",
   "metadata": {
    "collapsed": true,
    "jupyter": {
     "outputs_hidden": true
    },
    "tags": []
   },
   "outputs": [
    {
     "name": "stdout",
     "output_type": "stream",
     "text": [
      "<class 'pandas.core.series.Series'>\n",
      "학생1     둘리\n",
      "학생2     또치\n",
      "학생3    도우너\n",
      "학생4    희동이\n",
      "학생5    마이콜\n",
      "dtype: object\n"
     ]
    }
   ],
   "source": [
    "a=pd.Series({'학생1':'둘리','학생2':'또치','학생3':'도우너','학생4':'희동이','학생5':'마이콜'})\n",
    "print(type(a))\n",
    "print(a)"
   ]
  },
  {
   "cell_type": "code",
   "execution_count": 7,
   "id": "cc1a6717-b74c-4f8b-a4d7-f180a0e5ba41",
   "metadata": {
    "collapsed": true,
    "jupyter": {
     "outputs_hidden": true
    },
    "tags": []
   },
   "outputs": [
    {
     "name": "stdout",
     "output_type": "stream",
     "text": [
      "<class 'pandas.core.series.Series'>\n",
      "학생1     둘리\n",
      "학생2     또치\n",
      "학생3    도우너\n",
      "학생4    희동이\n",
      "학생5    마이콜\n",
      "dtype: object\n"
     ]
    }
   ],
   "source": [
    "a=pd.Series(['둘리','또치','도우너','희동이','마이콜'],index=['학생1','학생2','학생3','학생4','학생5'])\n",
    "print(type(a))\n",
    "print(a)"
   ]
  },
  {
   "cell_type": "code",
   "execution_count": 12,
   "id": "daf56fe6-0aea-4199-896b-345d7c0f7b99",
   "metadata": {
    "collapsed": true,
    "jupyter": {
     "outputs_hidden": true
    },
    "tags": []
   },
   "outputs": [
    {
     "name": "stdout",
     "output_type": "stream",
     "text": [
      "[시리즈 sr 출력]\n",
      "A형     34.2\n",
      "B형     27.1\n",
      "O형     26.7\n",
      "AB형    11.5\n",
      "dtype: float64\n",
      "[시리즈 sr에서 인덱싱과 슬라이싱하여 출력(숫자인덱스 사용)]\n",
      "34.2\n",
      "11.5\n",
      "27.1\n",
      "B형     27.1\n",
      "O형     26.7\n",
      "AB형    11.5\n",
      "dtype: float64\n",
      "[시리즈 sr에서 인덱싱과 슬라이싱하여 출력(이름인덱스 사용)]\n",
      "34.2\n",
      "11.5\n",
      "27.1\n",
      "B형     27.1\n",
      "O형     26.7\n",
      "AB형    11.5\n",
      "dtype: float64\n",
      "[시리즈 sr의 크기 출력]\n",
      "4\n",
      "[시리즈 sr의 인덱스 출력]\n",
      "Index(['A형', 'B형', 'O형', 'AB형'], dtype='object')\n",
      "[시리즈 sr의 데이터 값 출력]\n",
      "[34.2 27.1 26.7 11.5]\n"
     ]
    }
   ],
   "source": [
    "blood = ['A형', 'B형', 'O형', 'AB형']\n",
    "st = [34.2, 27.1, 26.7, 11.5]\n",
    "sr = pd.Series(st, index=blood)\n",
    "print(\"[시리즈 sr 출력]\")\n",
    "print(sr)\n",
    "print(\"[시리즈 sr에서 인덱싱과 슬라이싱하여 출력(숫자인덱스 사용)]\")\n",
    "print(sr[0],sr[-1],sr[1],sr[1:4],sep=\"\\n\")\n",
    "print(\"[시리즈 sr에서 인덱싱과 슬라이싱하여 출력(이름인덱스 사용)]\")\n",
    "print(sr['A형'],sr['AB형'],sr['B형'],sr['B형':'AB형'],sep=\"\\n\")\n",
    "print(\"[시리즈 sr의 크기 출력]\")\n",
    "print(len(sr))\n",
    "print(\"[시리즈 sr의 인덱스 출력]\")\n",
    "print(sr.index)\n",
    "print(\"[시리즈 sr의 데이터 값 출력]\")\n",
    "print(sr.values)"
   ]
  },
  {
   "cell_type": "code",
   "execution_count": 14,
   "id": "588ae1a5-1fe0-48ff-a32e-4ea79f952c92",
   "metadata": {
    "tags": []
   },
   "outputs": [
    {
     "name": "stdout",
     "output_type": "stream",
     "text": [
      "  name  kor  eng  mat\n",
      "0   둘리   90   99   90\n",
      "1   또치   80   98   70\n",
      "2  도우너   70   97   70\n",
      "3  희동이   70   46   60\n"
     ]
    }
   ],
   "source": [
    "dic={\n",
    "    'name':['둘리','또치','도우너','희동이'],\n",
    "    'kor':[90,80,70,70],\n",
    "    'eng':[99,98,97,46],\n",
    "    'mat':[90,70,70,60]\n",
    "}\n",
    "a=pd.DataFrame(dic)\n",
    "print(a)"
   ]
  },
  {
   "cell_type": "code",
   "execution_count": 16,
   "id": "645978ee-e8dc-4f41-9648-fc7764cc265f",
   "metadata": {},
   "outputs": [
    {
     "name": "stdout",
     "output_type": "stream",
     "text": [
      "    name  kor  eng  mat\n",
      "학생1   둘리   90   99   90\n",
      "학생2   또치   80   98   70\n",
      "학생3  도우너   70   97   70\n",
      "학생4  희동이   70   46   60\n"
     ]
    }
   ],
   "source": [
    "dic={\n",
    "    'name':['둘리','또치','도우너','희동이'],\n",
    "    'kor':[90,80,70,70],\n",
    "    'eng':[99,98,97,46],\n",
    "    'mat':[90,70,70,60]\n",
    "}\n",
    "a7=pd.DataFrame(dic,index=['학생1','학생2','학생3','학생4'])\n",
    "print(a7)"
   ]
  },
  {
   "cell_type": "code",
   "execution_count": 17,
   "id": "cbadec9d-f827-44f0-a9ed-28af4602936d",
   "metadata": {},
   "outputs": [
    {
     "name": "stdout",
     "output_type": "stream",
     "text": [
      "    dooly  doochi  dounar  heedong\n",
      "st1    둘리      90      99       90\n",
      "st2    또치      80      98       70\n",
      "st3   도우너      70      97       70\n",
      "st4   희동이      70      46       60\n"
     ]
    }
   ],
   "source": [
    "a7.index=['st1','st2','st3','st4']\n",
    "a7.columns=['dooly','doochi','dounar','heedong']\n",
    "print(a7)"
   ]
  },
  {
   "cell_type": "code",
   "execution_count": 26,
   "id": "5c1c10ab-819c-4a7f-bbe3-11361f5a49b9",
   "metadata": {
    "collapsed": true,
    "jupyter": {
     "outputs_hidden": true
    },
    "tags": []
   },
   "outputs": [],
   "source": [
    "data = {\n",
    "    'name':['듀크1', '듀크2', '듀크3', '듀크4', '듀크5', \n",
    "           '듀크6', '듀크7'],\n",
    "    'kor':[90, 80, 70, 70, 60, 70, 90],\n",
    "    'eng':[99, 98, 97, 46, 77, 56, 90],\n",
    "    'mat':[90, 70, 70, 60, 88, 99, 90],\n",
    "}\n",
    "df=pd.DataFrame(data)\n",
    "print(df[:5])\n",
    "print(df[-5:])\n",
    "print(df.columns)\n",
    "print(df['name'])\n",
    "print(df['eng'])\n",
    "print(df[['kor','mat']])\n",
    "print(\"\\n\\n iloc함수 사용 ----------\")\n",
    "print(df.iloc[3])\n",
    "print(df.iloc[0,0])\n",
    "print(df.iloc[3,2])\n",
    "print(df.iloc[[2,3],2])\n",
    "print(df.iloc[[2,3],[2,3]])\n",
    "\n",
    "print(\"\\n\\n loc함수 사용 ----------\")\n",
    "print(df.loc[3])\n",
    "print(df.loc[0,'name'])\n",
    "print(df.loc[3,'eng'])\n",
    "print(df.loc[[2,3],'kor'])\n",
    "print(df.loc[[2,3],['eng','mat']])"
   ]
  },
  {
   "cell_type": "code",
   "execution_count": 44,
   "id": "5ba39d9e-db53-487c-86e4-0004b1f4ffbf",
   "metadata": {
    "collapsed": true,
    "jupyter": {
     "outputs_hidden": true
    },
    "tags": []
   },
   "outputs": [],
   "source": [
    "df.set_index('name',inplace=True)\n",
    "\n",
    "\n",
    "print(df)"
   ]
  },
  {
   "cell_type": "code",
   "execution_count": null,
   "id": "1f3928a8-9d0f-4a56-87da-586a85c68561",
   "metadata": {},
   "outputs": [],
   "source": []
  }
 ],
 "metadata": {
  "kernelspec": {
   "display_name": "pydatavenv",
   "language": "python",
   "name": "pydatavenv"
  },
  "language_info": {
   "codemirror_mode": {
    "name": "ipython",
    "version": 3
   },
   "file_extension": ".py",
   "mimetype": "text/x-python",
   "name": "python",
   "nbconvert_exporter": "python",
   "pygments_lexer": "ipython3",
   "version": "3.9.12"
  }
 },
 "nbformat": 4,
 "nbformat_minor": 5
}
