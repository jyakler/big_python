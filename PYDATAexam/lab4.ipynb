{
 "cells": [
  {
   "cell_type": "code",
   "execution_count": 9,
   "id": "f67f8317-f3bf-4956-8064-24f364644de9",
   "metadata": {},
   "outputs": [],
   "source": [
    "from bs4 import BeautifulSoup\n",
    "import requests\n",
    "import re\n",
    "\n",
    "title=[]\n",
    "summary=[]\n",
    "rating=[]\n",
    "for page in range(1,11):\n",
    "    url=\"https://comic.naver.com/genre/bestChallenge?&page=\"+str(page)\n",
    "    req=requests.get(url)\n",
    "    req.encoding=\"utf-8\"\n",
    "    r=req.text\n",
    "    bs=BeautifulSoup(r,\"html.parser\")\n",
    "    \n",
    "    t=bs.select(\"h6.challengeTitle > a\")\n",
    "    i=bs.select(\"div.challengeInfo > div.summary\")\n",
    "    s=bs.select(\"div.challengeInfo > div.rating_type > strong\")\n",
    "    for dom in t:\n",
    "        title.append(dom.text.strip())\n",
    "    for dom in i:\n",
    "        summary.append(dom.text.strip())\n",
    "    for dom in s:\n",
    "        rating.append(dom.text.strip())\n",
    "\n",
    "\n",
    "print(title)\n",
    "print()\n",
    "print(summary)\n",
    "print()\n",
    "print(rating)"
   ]
  },
  {
   "cell_type": "code",
   "execution_count": null,
   "id": "cc5665ea-a471-4724-943c-13d18e317155",
   "metadata": {},
   "outputs": [],
   "source": []
  }
 ],
 "metadata": {
  "kernelspec": {
   "display_name": "pydatavenv",
   "language": "python",
   "name": "pydatavenv"
  },
  "language_info": {
   "codemirror_mode": {
    "name": "ipython",
    "version": 3
   },
   "file_extension": ".py",
   "mimetype": "text/x-python",
   "name": "python",
   "nbconvert_exporter": "python",
   "pygments_lexer": "ipython3",
   "version": "3.9.12"
  }
 },
 "nbformat": 4,
 "nbformat_minor": 5
}
