{
 "cells": [
  {
   "cell_type": "code",
   "execution_count": null,
   "id": "d52c5c94-38bd-4576-81b9-a715fb1ccadd",
   "metadata": {},
   "outputs": [],
   "source": [
    "from bs4 import BeautifulSoup\n",
    "import requests\n",
    "import re\n",
    "import pandas as pd\n",
    "\n",
    "title=[]\n",
    "summary=[]\n",
    "rating=[]\n",
    "for page in range(1,11):\n",
    "    url=\"https://comic.naver.com/genre/bestChallenge?&page=\"+str(page)\n",
    "    req=requests.get(url)\n",
    "    req.encoding=\"utf-8\"\n",
    "    r=req.text\n",
    "    bs=BeautifulSoup(r,\"html.parser\")\n",
    "    \n",
    "    t=bs.select(\"h6.challengeTitle > a\")\n",
    "    i=bs.select(\"div.challengeInfo > div.summary\")\n",
    "    s=bs.select(\"div.challengeInfo > div.rating_type > strong\")\n",
    "    for dom in t:\n",
    "        title.append(dom.text.strip())\n",
    "    for dom in i:\n",
    "        summary.append(dom.text.strip())\n",
    "    for dom in s:\n",
    "        rating.append(dom.text.strip())\n",
    "\n",
    "\n",
    "\n",
    "df=pd.DataFrame([title,summary,rating])\n",
    "df=df.transpose()\n",
    "df.columns=['title','summary','rating']\n",
    "print(df)\n",
    "df.to_csv('output/naverwebtoon.csv',header=True,index=False)"
   ]
  },
  {
   "cell_type": "code",
   "execution_count": null,
   "id": "0ff1ea37-4c2e-4729-9b0d-61570d147920",
   "metadata": {},
   "outputs": [],
   "source": []
  }
 ],
 "metadata": {
  "kernelspec": {
   "display_name": "pydatavenv",
   "language": "python",
   "name": "pydatavenv"
  },
  "language_info": {
   "codemirror_mode": {
    "name": "ipython",
    "version": 3
   },
   "file_extension": ".py",
   "mimetype": "text/x-python",
   "name": "python",
   "nbconvert_exporter": "python",
   "pygments_lexer": "ipython3",
   "version": "3.9.12"
  }
 },
 "nbformat": 4,
 "nbformat_minor": 5
}
