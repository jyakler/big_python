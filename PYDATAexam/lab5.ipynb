{
 "cells": [
  {
   "cell_type": "code",
   "execution_count": 17,
   "id": "ab39bed1-222a-4dbd-93f9-9d6c073f74ae",
   "metadata": {},
   "outputs": [],
   "source": [
    "from selenium import webdriver\n",
    "from selenium.webdriver.common.keys import Keys \n",
    "\n",
    "driver = webdriver.Chrome('C:/Temp/chromedriver')\n",
    "url=\"http://www.naver.com/\"\n",
    "driver.implicitly_wait(3) \n",
    "driver.get(url)"
   ]
  },
  {
   "cell_type": "code",
   "execution_count": 20,
   "id": "c41a73aa-db1e-42c0-aa15-60e41877718a",
   "metadata": {},
   "outputs": [],
   "source": [
    "target=driver.find_element_by_css_selector(\"[name='query']\")"
   ]
  },
  {
   "cell_type": "code",
   "execution_count": 13,
   "id": "e323d571-7132-460f-b114-8f906a90c8f7",
   "metadata": {},
   "outputs": [],
   "source": [
    "target=driver.find_element_by_id('query')"
   ]
  },
  {
   "cell_type": "code",
   "execution_count": 15,
   "id": "a3ca3d57-e393-4466-843c-e894994609d4",
   "metadata": {},
   "outputs": [],
   "source": [
    "target=driver.find_element_by_class_name('input_text')"
   ]
  },
  {
   "cell_type": "code",
   "execution_count": 21,
   "id": "ad8cb255-6467-4416-8026-e6f834a5a8bd",
   "metadata": {},
   "outputs": [],
   "source": [
    "target.send_keys('파이썬')\n",
    "target.send_keys(Keys.ENTER)"
   ]
  },
  {
   "cell_type": "code",
   "execution_count": null,
   "id": "94eb0852-c011-4c48-b733-52d49378cb73",
   "metadata": {},
   "outputs": [],
   "source": []
  }
 ],
 "metadata": {
  "kernelspec": {
   "display_name": "pydatavenv",
   "language": "python",
   "name": "pydatavenv"
  },
  "language_info": {
   "codemirror_mode": {
    "name": "ipython",
    "version": 3
   },
   "file_extension": ".py",
   "mimetype": "text/x-python",
   "name": "python",
   "nbconvert_exporter": "python",
   "pygments_lexer": "ipython3",
   "version": "3.9.12"
  }
 },
 "nbformat": 4,
 "nbformat_minor": 5
}
