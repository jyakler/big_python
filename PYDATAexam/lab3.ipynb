{
 "cells": [
  {
   "cell_type": "code",
   "execution_count": 65,
   "id": "9ac9040b-18db-4f94-bcb0-8000bbe9bdd8",
   "metadata": {
    "tags": []
   },
   "outputs": [],
   "source": [
    "from bs4 import BeautifulSoup\n",
    "import requests\n",
    "import re\n",
    "\"\"\"\n",
    "다음뉴스 헤드라인 제목,카테고리 뽑아서 csv파일로 저장하기\n",
    "\"\"\"\n",
    "url=\"https://news.daum.net/\"\n",
    "req=requests.get(url)\n",
    "req.encoding=\"utf-8\"\n",
    "r=req.text\n",
    "bs=BeautifulSoup(r,\"html.parser\")\n",
    "newstitle=[]\n",
    "newscategory=[]\n",
    "for i in range(1,21):\n",
    "    soc=bs.select('ul.list_newsissue > li:nth-of-type('+str(i)+') > div>div>span>span.txt_category')\n",
    "    title=bs.select('ul.list_newsissue > li:nth-of-type('+str(i)+') > div>div>strong>a')\n",
    "    for dom in soc:\n",
    "        newscategory.append(dom.text.strip())\n",
    "    for dom in title:\n",
    "        newstitle.append(dom.text.strip())\n",
    "\n",
    "with open('output/news.csv','wt',encoding='utf-8') as f:\n",
    "    f.write(\"newstitle,newscategory\\n\")\n",
    "    for i in range(len(newstitle)):\n",
    "        f.write(newstitle[i]+\",\"+newscategory[i]+\"\\n\")"
   ]
  },
  {
   "cell_type": "code",
   "execution_count": null,
   "id": "e7b5ea41-6b0a-49da-828d-e3c31b783bf4",
   "metadata": {},
   "outputs": [],
   "source": []
  }
 ],
 "metadata": {
  "kernelspec": {
   "display_name": "pydatavenv",
   "language": "python",
   "name": "pydatavenv"
  },
  "language_info": {
   "codemirror_mode": {
    "name": "ipython",
    "version": 3
   },
   "file_extension": ".py",
   "mimetype": "text/x-python",
   "name": "python",
   "nbconvert_exporter": "python",
   "pygments_lexer": "ipython3",
   "version": "3.9.12"
  }
 },
 "nbformat": 4,
 "nbformat_minor": 5
}
