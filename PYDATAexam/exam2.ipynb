{
 "cells": [
  {
   "cell_type": "markdown",
   "metadata": {
    "tags": []
   },
   "source": [
    "### 한글처리 완벽체크(ㅎㅎ)"
   ]
  },
  {
   "cell_type": "code",
   "execution_count": 7,
   "metadata": {
    "collapsed": true,
    "jupyter": {
     "outputs_hidden": true
    },
    "tags": []
   },
   "outputs": [
    {
     "name": "stdout",
     "output_type": "stream",
     "text": [
      "﻿<!DOCTYPE html>\n",
      "<html>\n",
      "  <head>\n",
      "    <meta charset=\"utf-8\">\n",
      "    <title>POST TEST</title>\n",
      "  </head>\n",
      "  <body>\n",
      "   <h1>GET : 이름과 나이를 전달해 주세요!!</h1>   </body>\n",
      "</html>\n",
      "===================================\n",
      "﻿\n",
      "<!DOCTYPE html>\n",
      "<html>\n",
      " <head>\n",
      "  <meta charset=\"utf-8\"/>\n",
      "  <title>\n",
      "   POST TEST\n",
      "  </title>\n",
      " </head>\n",
      " <body>\n",
      "  <h1>\n",
      "   GET : 이름과 나이를 전달해 주세요!!\n",
      "  </h1>\n",
      " </body>\n",
      "</html>\n"
     ]
    }
   ],
   "source": [
    "import requests\n",
    "from bs4 import BeautifulSoup\n",
    "urlstr = 'http://unico2013.dothome.co.kr/crawling/get.php'\n",
    "r = requests.get(urlstr)\n",
    "r.encoding = 'utf-8'\n",
    "html = r.text\n",
    "print(html)\n",
    "print(\"===================================\")\n",
    "bs = BeautifulSoup(html, 'html.parser')\n",
    "print(bs.prettify())"
   ]
  },
  {
   "cell_type": "code",
   "execution_count": 8,
   "metadata": {
    "collapsed": true,
    "jupyter": {
     "outputs_hidden": true
    },
    "tags": []
   },
   "outputs": [
    {
     "name": "stdout",
     "output_type": "stream",
     "text": [
      "﻿<!DOCTYPE html>\n",
      "<html>\n",
      "  <head>\n",
      "    <meta charset=\"utf-8\">\n",
      "    <title>POST TEST</title>\n",
      "  </head>\n",
      "  <body>\n",
      "   <h1>GET : 이름과 나이를 전달해 주세요!!</h1>   </body>\n",
      "</html>\n",
      "===================================\n",
      "﻿\n",
      "<!DOCTYPE html>\n",
      "<html>\n",
      " <head>\n",
      "  <meta charset=\"utf-8\"/>\n",
      "  <title>\n",
      "   POST TEST\n",
      "  </title>\n",
      " </head>\n",
      " <body>\n",
      "  <h1>\n",
      "   GET : 이름과 나이를 전달해 주세요!!\n",
      "  </h1>\n",
      " </body>\n",
      "</html>\n"
     ]
    }
   ],
   "source": [
    "import requests\n",
    "from bs4 import BeautifulSoup\n",
    "urlstr = 'http://unico2013.dothome.co.kr/crawling/get.php'\n",
    "r = requests.get(urlstr)\n",
    "html = r.content\n",
    "html = html = r.content.decode('utf-8')\n",
    "print(html)\n",
    "print(\"===================================\")\n",
    "bs = BeautifulSoup(html, 'html.parser')\n",
    "print(bs.prettify())"
   ]
  },
  {
   "cell_type": "code",
   "execution_count": 13,
   "metadata": {
    "collapsed": true,
    "jupyter": {
     "outputs_hidden": true
    },
    "tags": []
   },
   "outputs": [
    {
     "name": "stdout",
     "output_type": "stream",
     "text": [
      "b'\\xef\\xbb\\xbf<!DOCTYPE html>\\r\\n<html>\\r\\n  <head>\\r\\n    <meta charset=\"utf-8\">\\r\\n    <title>POST TEST</title>\\r\\n  </head>\\r\\n  <body>\\r\\n   <h1>GET : \\xec\\x9d\\xb4\\xeb\\xa6\\x84\\xea\\xb3\\xbc \\xeb\\x82\\x98\\xec\\x9d\\xb4\\xeb\\xa5\\xbc \\xec\\xa0\\x84\\xeb\\x8b\\xac\\xed\\x95\\xb4 \\xec\\xa3\\xbc\\xec\\x84\\xb8\\xec\\x9a\\x94!!</h1>   </body>\\r\\n</html>'\n",
      "===================================\n",
      "<!DOCTYPE html>\n",
      "<html>\n",
      " <head>\n",
      "  <meta charset=\"utf-8\"/>\n",
      "  <title>\n",
      "   POST TEST\n",
      "  </title>\n",
      " </head>\n",
      " <body>\n",
      "  <h1>\n",
      "   GET : 이름과 나이를 전달해 주세요!!\n",
      "  </h1>\n",
      " </body>\n",
      "</html>\n"
     ]
    }
   ],
   "source": [
    "import urllib.request\n",
    "from bs4 import BeautifulSoup\n",
    "urlstr = 'http://unico2013.dothome.co.kr/crawling/get.php'\n",
    "r = urllib.request.urlopen(urlstr)\n",
    "html = r.read()\n",
    "html = html = html.decode('utf-8')\n",
    "print(html)\n",
    "print(\"===================================\")\n",
    "bs = BeautifulSoup(html, 'html.parser')\n",
    "print(bs.prettify())"
   ]
  },
  {
   "cell_type": "code",
   "execution_count": 9,
   "metadata": {
    "tags": []
   },
   "outputs": [
    {
     "name": "stdout",
     "output_type": "stream",
     "text": [
      "WebDriver 객체 :  <class 'selenium.webdriver.chrome.webdriver.WebDriver'>\n"
     ]
    }
   ],
   "source": [
    "from selenium import webdriver\n",
    "from selenium.webdriver.common.keys import Keys \n",
    "\n",
    "driver = webdriver.Chrome('C:/Temp/chromedriver')\n",
    "print(\"WebDriver 객체 : \", type(driver))"
   ]
  },
  {
   "cell_type": "code",
   "execution_count": 16,
   "metadata": {
    "tags": []
   },
   "outputs": [],
   "source": [
    "driver.get('http://www.google.com/ncr')"
   ]
  },
  {
   "cell_type": "code",
   "execution_count": 17,
   "metadata": {
    "tags": []
   },
   "outputs": [
    {
     "name": "stdout",
     "output_type": "stream",
     "text": [
      "찾아온 태그 객체 :  <class 'selenium.webdriver.remote.webelement.WebElement'>\n"
     ]
    }
   ],
   "source": [
    "target=driver.find_element_by_css_selector(\"[name = 'q']\")\n",
    "print(\"찾아온 태그 객체 : \", type(target))\n",
    "target.send_keys('파이썬')"
   ]
  },
  {
   "cell_type": "code",
   "execution_count": 18,
   "metadata": {
    "tags": []
   },
   "outputs": [],
   "source": [
    "target.send_keys(Keys.ENTER)"
   ]
  },
  {
   "cell_type": "code",
   "execution_count": 6,
   "metadata": {
    "tags": []
   },
   "outputs": [],
   "source": [
    "driver.quit()"
   ]
  },
  {
   "cell_type": "code",
   "execution_count": 19,
   "metadata": {
    "tags": []
   },
   "outputs": [
    {
     "name": "stdout",
     "output_type": "stream",
     "text": [
      "[]\n"
     ]
    }
   ],
   "source": [
    "import urllib.request\n",
    "from bs4 import BeautifulSoup\n",
    "#서버 접속\n",
    "server = urllib.request.urlopen(\"https://www.istarbucks.co.kr/store/store_map.do\")\n",
    "\n",
    "response =server.read().decode()\n",
    "bs = BeautifulSoup(response, \"html.parser\")\n",
    "li = bs.find_all('li', class_=\"quickResultLstCon\")\n",
    "print(li)"
   ]
  },
  {
   "cell_type": "code",
   "execution_count": 20,
   "metadata": {
    "tags": []
   },
   "outputs": [
    {
     "name": "stdout",
     "output_type": "stream",
     "text": [
      "<class 'selenium.webdriver.remote.webelement.WebElement'>\n",
      "<class 'str'>\n",
      "강동구청DT\n",
      "서울특별시 강동구 성내로 32 (성내동)\n",
      "1522-3232\n",
      "리저브 매장 2번\n"
     ]
    }
   ],
   "source": [
    "driver = webdriver.Chrome('C:/Temp/chromedriver')\n",
    "driver.implicitly_wait(3)\n",
    "driver.get(\"https://www.istarbucks.co.kr/store/store_map.do\")\n",
    "target=driver.find_element_by_class_name(\"quickResultLstCon\")\n",
    "\n",
    "print(type(target))\n",
    "print(type(target.text))\n",
    "print(target.text)\n",
    "#driver.quit()"
   ]
  },
  {
   "cell_type": "code",
   "execution_count": 21,
   "metadata": {},
   "outputs": [
    {
     "name": "stdout",
     "output_type": "stream",
     "text": [
      "[ webdriver 객체 정보 ]\n",
      "<class 'selenium.webdriver.chrome.webdriver.WebDriver'>\n",
      "<selenium.webdriver.chrome.webdriver.WebDriver (session=\"9476a2736390b7cc0e6a267239b2b64a\")>\n",
      "-----------------------------\n",
      "<class 'selenium.webdriver.remote.webelement.WebElement'>\n",
      "h1 : CSS 선택자 학습\n",
      "-----------------------------\n",
      "<class 'list'>\n",
      "h2 : 교육과정 소개\n",
      "h2 : 웹 클라이언트 기술\n",
      "h2 : 학습 순서(수집)\n"
     ]
    }
   ],
   "source": [
    "from selenium import webdriver\n",
    "\n",
    "driver = webdriver.Chrome('C:/Temp/chromedriver')\n",
    "driver.implicitly_wait(3)\n",
    "print('[ webdriver 객체 정보 ]')\n",
    "print(type(driver)) \n",
    "print(driver) \n",
    "driver.get('http://unico2013.dothome.co.kr/crawling/exercise_css.html')\n",
    "print('-----------------------------')\n",
    "byTagName = driver.find_element_by_tag_name('h1')\n",
    "print(type(byTagName))\n",
    "print(byTagName.tag_name, \":\", byTagName.text)\n",
    "print('-----------------------------')\n",
    "byTagNames = driver.find_elements_by_tag_name('h2')\n",
    "print(type(byTagNames))\n",
    "for tagName in byTagNames :\n",
    "   print(tagName.tag_name, \":\", tagName.text)\n",
    "#driver.quit()"
   ]
  },
  {
   "cell_type": "code",
   "execution_count": 22,
   "metadata": {},
   "outputs": [
    {
     "name": "stdout",
     "output_type": "stream",
     "text": [
      "<class 'selenium.webdriver.remote.webelement.WebElement'>\n",
      "h2 : 웹 클라이언트 기술\n",
      "-----------------------------\n",
      "<class 'list'>\n",
      "h2 : 웹 클라이언트 기술\n",
      "h2 : 학습 순서(수집)\n"
     ]
    }
   ],
   "source": [
    "from selenium import webdriver\n",
    "\n",
    "driver = webdriver.Chrome('C:/Temp/chromedriver')\n",
    "driver.implicitly_wait(3) \n",
    "\n",
    "driver.get('http://unico2013.dothome.co.kr/crawling/exercise_css.html')\n",
    "\n",
    "byClassName = driver.find_element_by_class_name('subtitle')\n",
    "print(type(byClassName))\n",
    "print(byClassName.tag_name, \":\", byClassName.text)\n",
    "print('-----------------------------')\n",
    "byClassNames = driver.find_elements_by_class_name('subtitle')\n",
    "print(type(byClassNames))\n",
    "for className in byClassNames :\n",
    "   print(className.tag_name, \":\", className.text)\n",
    "#driver.quit()\n"
   ]
  },
  {
   "cell_type": "code",
   "execution_count": 23,
   "metadata": {},
   "outputs": [
    {
     "name": "stdout",
     "output_type": "stream",
     "text": [
      "<class 'selenium.webdriver.remote.webelement.WebElement'>\n",
      "li : HTML5\n",
      "-----------------------------\n",
      "<class 'selenium.webdriver.remote.webelement.WebElement'>\n",
      "a : 파이썬 학습 사이트\n",
      "-----------------------------\n",
      "<class 'list'>\n",
      "a : HTML, CSS, JavaScript 학습 사이트\n",
      "a : 파이썬 학습 사이트\n"
     ]
    }
   ],
   "source": [
    "from selenium import webdriver\n",
    "\n",
    "driver = webdriver.Chrome('C:/Temp/chromedriver')\n",
    "driver.implicitly_wait(3) \n",
    "\n",
    "driver.get('http://unico2013.dothome.co.kr/crawling/exercise_css.html')\n",
    "\n",
    "byId = driver.find_element_by_id('btype')\n",
    "print(type(byId))\n",
    "print(byId.tag_name, \":\", byId.text)\n",
    "print('-----------------------------')\n",
    "byLinkText = driver.find_element_by_link_text('파이썬 학습 사이트')\n",
    "print(type(byLinkText))\n",
    "print(byLinkText.tag_name, \":\", byLinkText.text)\n",
    "print('-----------------------------')\n",
    "byPLinkText = driver.find_elements_by_partial_link_text('사이트')\n",
    "print(type(byPLinkText))\n",
    "for linkText in byPLinkText :\n",
    "   print(linkText.tag_name, \":\", linkText.text)\n",
    "#driver.quit()"
   ]
  },
  {
   "cell_type": "code",
   "execution_count": 24,
   "metadata": {},
   "outputs": [
    {
     "name": "stdout",
     "output_type": "stream",
     "text": [
      "<class 'selenium.webdriver.remote.webelement.WebElement'>\n",
      "h2 : 교육과정 소개\n",
      "-----------------------------\n",
      "<class 'selenium.webdriver.remote.webelement.WebElement'>\n",
      "h2 : 학습 순서(수집)\n",
      "-----------------------------\n",
      "<class 'selenium.webdriver.remote.webelement.WebElement'>\n",
      "li : JavaScript\n",
      "-----------------------------\n",
      "<class 'list'>\n",
      "li : CSS3\n",
      "li : Ajax\n"
     ]
    }
   ],
   "source": [
    "from selenium import webdriver\n",
    "\n",
    "driver = webdriver.Chrome('C:/Temp/chromedriver')\n",
    "driver.implicitly_wait(3) \n",
    "\n",
    "driver.get('http://unico2013.dothome.co.kr/crawling/exercise_css.html')\n",
    "\n",
    "byCss1 = driver.find_element_by_css_selector('section>h2')\n",
    "print(type(byCss1))\n",
    "print(byCss1.tag_name, \":\", byCss1.text)\n",
    "print('-----------------------------')\n",
    "byCss2 = driver.find_element_by_css_selector('aside>h2')\n",
    "print(type(byCss2))\n",
    "print(byCss2.tag_name, \":\", byCss2.text)\n",
    "print('-----------------------------')\n",
    "byCss3 = driver.find_element_by_css_selector('body > section > article > ul > li:nth-child(3)')\n",
    "print(type(byCss3))\n",
    "print(byCss3.tag_name, \":\", byCss3.text)\n",
    "print('-----------------------------')\n",
    "byCss4 = driver.find_elements_by_css_selector('ul>li.atype')\n",
    "print(type(byCss4))\n",
    "for byCss in byCss4 :\n",
    "   print(byCss.tag_name, \":\", byCss.text)\n",
    "driver.quit()"
   ]
  },
  {
   "cell_type": "code",
   "execution_count": null,
   "metadata": {},
   "outputs": [],
   "source": [
    "from selenium import webdriver\n",
    "\n",
    "driver = webdriver.Chrome('C:/Temp/chromedriver')\n",
    "driver.implicitly_wait(3) \n",
    "\n",
    "driver.get('http://unico2013.dothome.co.kr/crawling/exercise_css.html')\n",
    "\n",
    "byXpath1 = driver.find_element_by_xpath('//*[@id=\"f_subtitle\"]')\n",
    "print(type(byXpath1))\n",
    "print(byXpath1.tag_name, \":\", byXpath1.text)\n",
    "print('-----------------------------')\n",
    "byXpath2 = driver.find_element_by_xpath('/html/body/section/article/ul/li[3]')\n",
    "print(type(byXpath2))\n",
    "print(byXpath2.tag_name, \":\", byXpath2.text)\n",
    "print('-----------------------------')\n",
    "byXpath3 = driver.find_elements_by_xpath('//ul/li[@class=\"atype\"]')\n",
    "print(type(byXpath3))\n",
    "for byXpath in byXpath3 :\n",
    "   print(byXpath.tag_name, \":\", byXpath.text)\n",
    "#driver.quit()"
   ]
  },
  {
   "cell_type": "code",
   "execution_count": null,
   "metadata": {},
   "outputs": [],
   "source": [
    "from selenium import webdriver\n",
    "\n",
    "driver = webdriver.Chrome('C:/Temp/chromedriver')\n",
    "driver.implicitly_wait(3) \n",
    "\n",
    "driver.get('http://unico2013.dothome.co.kr/crawling/exercise_css.html')\n",
    "\n",
    "byXpath1 = driver.find_element_by_xpath('//div/img')\n",
    "print(type(byXpath1))\n",
    "print(byXpath1.tag_name, \":\", byXpath1.get_attribute('src'))\n",
    "print('-----------------------------')\n",
    "byXpath2 = driver.find_elements_by_xpath('/html/body/header/nav/a')\n",
    "print(type(byXpath2))\n",
    "for byXpath in byXpath2 :\n",
    "   print(byXpath.tag_name, \":\", byXpath.get_attribute('href'))\n",
    "#driver.quit()"
   ]
  },
  {
   "cell_type": "code",
   "execution_count": null,
   "metadata": {
    "tags": []
   },
   "outputs": [],
   "source": [
    "from selenium import webdriver\n",
    "\n",
    "driver = webdriver.Chrome('C:/Temp/chromedriver')\n",
    "driver.implicitly_wait(3) \n",
    "\n",
    "driver.get(\"http://www.yes24.com/Product/goods/40936880\")\n",
    "import time\n",
    "temp_list = []\n",
    "time.sleep(3)\n",
    "stopFlag = False\n",
    "while True :\n",
    "  for n in range(4, 13) :\n",
    "    linkurl = '#infoset_reviewContentList > div.review_sort.sortBot > div.review_sortLft > div > a:nth-child('+str(n)+')'\n",
    "    linkNum = driver.find_element_by_css_selector(linkurl)\n",
    "    linkNum.click()   \n",
    "    time.sleep(2)\n",
    "    readLinks = driver.find_elements_by_css_selector('#infoset_reviewContentList span.review_more')\n",
    "    ##infoset_reviewContentList > div:nth-child(4) > div.reviewInfoBot.crop > a > div > span\n",
    "    for readlink in readLinks :\n",
    "      #readlink.click()\n",
    "      driver.execute_script(\"arguments[0].click();\", readlink)\n",
    "      time.sleep(3)\n",
    "\n",
    "    reviewList = driver.find_elements_by_css_selector('#infoset_reviewContentList div.reviewInfoBot.origin div.review_cont')\n",
    "    time.sleep(2)\n",
    "\n",
    "    for review in reviewList :    \n",
    "      temp_list.append(review.text)\n",
    "    \n",
    "    if len(reviewList) < 5 :\n",
    "      stopFlag = True\n",
    "      break\n",
    "      \n",
    "  if stopFlag == True :\n",
    "    break\n",
    "  nextPage = '#infoset_reviewContentList > div.review_sort.sortBot > div.review_sortLft > div > a.bgYUI.next'\n",
    "  linkNum = driver.find_element_by_css_selector(nextPage)\n",
    "  linkNum.click()\n",
    "  time.sleep(2)\n",
    "\n",
    "#for item in temp_list :\n",
    "#    print(item)\n",
    "\n",
    "wfile = open(\"output/yes24file.txt\",\"w\", encoding=\"utf-8\") \n",
    "wfile.writelines(temp_list) \n",
    "wfile.close()\n",
    "\n",
    "#driver.quit()\n"
   ]
  },
  {
   "cell_type": "code",
   "execution_count": null,
   "metadata": {},
   "outputs": [],
   "source": [
    "from selenium import webdriver\n",
    "\n",
    "driver = webdriver.Chrome('C:/Temp/chromedriver')\n",
    "\n",
    "driver.get('http://www.python.org/')\n",
    "driver.implicitly_wait(3)"
   ]
  },
  {
   "cell_type": "code",
   "execution_count": null,
   "metadata": {},
   "outputs": [],
   "source": [
    "driver.get_screenshot_as_file('c:/Temp/python_main.png')\n",
    "print('캡쳐 저장 완료')\n",
    "import time\n",
    "time.sleep(5)\n",
    "driver.quit()"
   ]
  },
  {
   "cell_type": "code",
   "execution_count": 25,
   "metadata": {
    "tags": []
   },
   "outputs": [
    {
     "name": "stdout",
     "output_type": "stream",
     "text": [
      "캡쳐 저장 완료\n"
     ]
    }
   ],
   "source": [
    "from selenium import webdriver\n",
    "\n",
    "options = webdriver.ChromeOptions()\n",
    "options.add_argument('headless')\n",
    "options.add_argument('window-size=1920x1080')\n",
    "\n",
    "driver = webdriver.Chrome('C:/Temp/chromedriver', options=options)\n",
    "\n",
    "driver.get('http://www.python.org/')\n",
    "driver.implicitly_wait(3)\n",
    "driver.get_screenshot_as_file('c:/Temp/python_main_headless.png')\n",
    "print('캡쳐 저장 완료')\n",
    "import time\n",
    "time.sleep(2)\n",
    "driver.quit()"
   ]
  },
  {
   "cell_type": "code",
   "execution_count": 26,
   "metadata": {},
   "outputs": [
    {
     "name": "stdout",
     "output_type": "stream",
     "text": [
      "575\n"
     ]
    }
   ],
   "source": [
    "from selenium import webdriver\n",
    "\n",
    "driver = webdriver.Chrome('C:/Temp/chromedriver')\n",
    "driver.implicitly_wait(3) \n",
    "\n",
    "driver.get(\"https://www.istarbucks.co.kr/store/store_map.do\")\n",
    "import time\n",
    "time.sleep(2)\n",
    "loca = driver.find_element_by_class_name('loca_search')\n",
    "loca.click()\n",
    "time.sleep(2)\n",
    "f_link = driver.find_element_by_css_selector(\"div.loca_step1_cont > ul > li:nth-child(1) > a\")\n",
    "f_link.click()\n",
    "time.sleep(2)\n",
    "s_link = driver.find_element_by_css_selector(\"#mCSB_2_container > ul > li:nth-child(1) > a\")\n",
    "s_link.click()\n",
    "time.sleep(2)\n",
    "shopList = driver.find_elements_by_css_selector(\"#mCSB_3_container > ul > li\")\n",
    "\n",
    "temp_list = []\n",
    "time.sleep(3)\n",
    "count = 0\n",
    "total = len(shopList)\n",
    "print(total)\n",
    "for shop in shopList :    \n",
    "    count += 1\n",
    "    #print(count)\n",
    "    shoplat = shop.get_attribute(\"data-lat\")\n",
    "    shoplong = shop.get_attribute(\"data-long\")\n",
    "    shopname = shop.find_element_by_tag_name(\"strong\")\n",
    "    shopinfo = shop.find_element_by_tag_name(\"p\")\n",
    "    splitinfo = shopinfo.text.split('\\n')\n",
    "    if(len(splitinfo) == 2):\n",
    "        addr = splitinfo[0]\n",
    "        phonenum = splitinfo[1]\n",
    "    temp_list.append([shopname.text, shoplat, shoplong, addr, phonenum])\n",
    "    if count != total and count % 3 == 0:\n",
    "        driver.execute_script(\"var su = arguments[0]; var dom=document.querySelectorAll('#mCSB_3_container > ul > li')[su]; dom.scrollIntoView();\", count)\n",
    "with open('output/starbucks_shop.txt', \"wt\", encoding=\"utf-8\") as f:\n",
    "    for item in temp_list :\n",
    "        f.write(str(item)+'\\n')\n",
    "\n",
    "#driver.quit()"
   ]
  },
  {
   "cell_type": "code",
   "execution_count": null,
   "metadata": {},
   "outputs": [],
   "source": [
    "#소스1\n",
    "from selenium import webdriver\n",
    "from selenium.webdriver.common.keys import Keys \n",
    "\n",
    "driver = webdriver.Chrome('C:/Temp/chromedriver')\n",
    "driver.implicitly_wait(3) \n",
    "driver.get('https://map.naver.com/') \n",
    "import time\n",
    "time.sleep(2)\n",
    "\n",
    "target=driver.find_element_by_css_selector(\".input_search\")\n",
    "\n",
    "target.send_keys('서울시어린이도서관')\n",
    "target.send_keys(Keys.ENTER)"
   ]
  },
  {
   "cell_type": "code",
   "execution_count": null,
   "metadata": {},
   "outputs": [],
   "source": [
    "time.sleep(2)\n",
    "driver.switch_to.frame(\"searchIframe\") \n",
    "while True :    \n",
    "    names = driver.find_elements_by_css_selector(\"span._3Apve\")\n",
    "    addrs = driver.find_elements_by_css_selector(\"span._3B6hV\")\n",
    "    if len(names) == 0 :\n",
    "        print(\"추출되는 도서관이 더 이상 없슈\")\n",
    "        break\n",
    "    for i in range(len(names)) :\n",
    "        print(names[i].text,addrs[i].text, sep=\", \", end=\"\\n\")\n",
    "    print(\"------------------------------------------------\")\n",
    "    linkurl = '#app-root > div > div > div._2ky45 > a:nth-child(7)'\n",
    "    try :\n",
    "        linkNum = driver.find_element_by_css_selector(linkurl)\n",
    "    except :\n",
    "        print(\"더 이상 다음 페이지 없음\")\n",
    "        break\n",
    "    linkNum.click()  \n",
    "    time.sleep(5)\n",
    "print(\"스크래핑 종료\")\n",
    "#driver.quit()"
   ]
  },
  {
   "cell_type": "code",
   "execution_count": 21,
   "metadata": {},
   "outputs": [
    {
     "name": "stdout",
     "output_type": "stream",
     "text": [
      "추출되는 도서관이 더 이상 없슈\n",
      "스크래핑 종료\n"
     ]
    }
   ],
   "source": [
    "#소스2\n",
    "from selenium import webdriver\n",
    "from selenium.webdriver.common.keys import Keys \n",
    "\n",
    "driver = webdriver.Chrome('C:/Temp/chromedriver')\n",
    "driver.implicitly_wait(3) \n",
    "driver.get('https://map.naver.com/') \n",
    "import time\n",
    "time.sleep(2)\n",
    "\n",
    "target=driver.find_element_by_css_selector(\".input_search\")\n",
    "\n",
    "target.send_keys('서울시어린이도서관')\n",
    "target.send_keys(Keys.ENTER)\n",
    "\n",
    "time.sleep(2)\n",
    "driver.switch_to.frame(\"searchIframe\")\n",
    "while True :\n",
    "    count = 9\n",
    "    while True :\n",
    "        print(\"스크롤 : \" +str(count))\n",
    "        try :\n",
    "            driver.execute_script(\"var su = arguments[0]; var dom=document.querySelectorAll('#_pcmap_list_scroll_container>ul>li')[su]; dom.scrollIntoView();\", count)\n",
    "            time.sleep(2)\n",
    "        except :        \n",
    "            break\n",
    "        count += 10\n",
    "    names = driver.find_elements_by_css_selector(\"span._3Apve\")\n",
    "    addrs = driver.find_elements_by_css_selector(\"span._3B6hV\")\n",
    "    if len(names) == 0 :\n",
    "        print(\"추출되는 도서관이 더 이상 없슈\")\n",
    "        break\n",
    "    for i in range(len(names)) :\n",
    "        print(names[i].text,addrs[i].text, sep=\", \", end=\"\\n\")\n",
    "    print(\"------------------------------------------------\")\n",
    "    linkurl = '#app-root > div > div > div._2ky45 > a:nth-child(7)'\n",
    "    try :\n",
    "        linkNum = driver.find_element_by_css_selector(linkurl)\n",
    "    except :\n",
    "        print(\"더 이상 다음 페이지 없음\")\n",
    "        break\n",
    "    linkNum.click()  \n",
    "    time.sleep(5)\n",
    "print(\"스크래핑 종료\")\n",
    "\n",
    "#driver.quit()"
   ]
  },
  {
   "cell_type": "code",
   "execution_count": null,
   "metadata": {},
   "outputs": [],
   "source": []
  }
 ],
 "metadata": {
  "kernelspec": {
   "display_name": "pydatavenv",
   "language": "python",
   "name": "pydatavenv"
  },
  "language_info": {
   "codemirror_mode": {
    "name": "ipython",
    "version": 3
   },
   "file_extension": ".py",
   "mimetype": "text/x-python",
   "name": "python",
   "nbconvert_exporter": "python",
   "pygments_lexer": "ipython3",
   "version": "3.9.12"
  }
 },
 "nbformat": 4,
 "nbformat_minor": 4
}
