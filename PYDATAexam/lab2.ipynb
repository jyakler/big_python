{
 "cells": [
  {
   "cell_type": "code",
   "execution_count": 83,
   "id": "520364e7-8865-417c-9b19-4afbc5dd3775",
   "metadata": {
    "collapsed": true,
    "jupyter": {
     "outputs_hidden": true
    },
    "tags": []
   },
   "outputs": [],
   "source": [
    "import requests\n",
    "from bs4 import BeautifulSoup\n",
    "import re\n",
    "\n",
    "url=\"http://unico2013.dothome.co.kr/crawling/exercise_bs.html\"\n",
    "req=requests.get(url)\n",
    "req.encoding=\"utf-8\"\n",
    "html=req.content\n",
    "bs=BeautifulSoup(html,'html.parser')\n",
    "#1 h1 태그의 콘텐츠 \n",
    "print(bs.h1.contents)\n",
    "#2 텍스트 형식으로 내용을 가지고 있는 <a> 태그의 콘텐츠와 href 속성값\n",
    "a=bs.find_all(\"a\",text=True)\n",
    "print(a)\n",
    "for i in a:\n",
    "    print(i.text,\":\", i['href'])\n",
    "#3 <img> 태그의 src 속성값\n",
    "print(bs.img['src'])\n",
    "#4첫 번째 <h2> 태그의 콘텐츠\n",
    "print(bs.h2.text)\n",
    "#5<ul> 태그의 자식 태그들 중 style 속성의 값이 green으로 끝나는 태그의 콘텐츠\n",
    "print(bs.find(attrs={'style':re.compile(\"green$\")}).text)\n",
    "#6두 번째 <h2> 태그의 콘텐츠\n",
    "print(bs.find_all(\"h2\")[1].text)\n",
    "#7<ol> 태그의 모든 자식 태그들의 콘텐츠\n",
    "print(bs.ol.text.strip())\n",
    "#8<table> 태그의 모든 자손 태그들의 콘텐츠\n",
    "print(bs.table.text)\n",
    "#9name이라는 클래스 속성을 갖는 <tr> 태그의 콘텐츠\n",
    "print(bs.find(\"tr\",class_=\"name\").text)\n",
    "#10target이라는 아이디 속성을 갖는 <td> 태그의 콘텐츠\n",
    "print(bs.find(\"td\",id=\"target\").text)\n",
    "\n"
   ]
  }
 ],
 "metadata": {
  "kernelspec": {
   "display_name": "pydatavenv",
   "language": "python",
   "name": "pydatavenv"
  },
  "language_info": {
   "codemirror_mode": {
    "name": "ipython",
    "version": 3
   },
   "file_extension": ".py",
   "mimetype": "text/x-python",
   "name": "python",
   "nbconvert_exporter": "python",
   "pygments_lexer": "ipython3",
   "version": "3.9.12"
  }
 },
 "nbformat": 4,
 "nbformat_minor": 5
}
