{
 "cells": [
  {
   "cell_type": "code",
   "execution_count": 48,
   "id": "fa22bad9-b210-48ad-b0b5-041f8d77e968",
   "metadata": {
    "collapsed": true,
    "jupyter": {
     "outputs_hidden": true
    },
    "tags": []
   },
   "outputs": [],
   "source": [
    "from selenium import webdriver\n",
    "from selenium.webdriver.common.keys import Keys \n",
    "import time\n",
    "driver = webdriver.Chrome('C:/Temp/chromedriver')\n",
    "url=\"https://www.megabox.co.kr/movie-detail/comment?rpstMovieNo=21033000\"\n",
    "driver.get(url)\n",
    "time.sleep(3)\n",
    "\n",
    "score=[]\n",
    "genre=[]\n",
    "review=[]\n",
    "\n",
    "s=driver.find_elements_by_class_name('story-point')\n",
    "g=driver.find_elements_by_class_name('story-recommend')\n",
    "r=driver.find_elements_by_class_name('story-txt')\n",
    "\n",
    "for i in range(len(s)):\n",
    "    score.append(s[i].text.strip())\n",
    "    genre.append(g[i].text.strip())\n",
    "    review.append(r[i].text.strip())\n",
    "\n",
    "nextpage=driver.find_element_by_css_selector('#contentData > div > div.movie-idv-story > nav> a:nth-child(2)')\n",
    "nextpage.click()\n",
    "                        \n",
    "for page in range(2,31):\n",
    "    print(str(page)+\"start\")\n",
    "    time.sleep(1)\n",
    "                                                 \n",
    "    s=driver.find_elements_by_class_name('story-point')\n",
    "    g=driver.find_elements_by_class_name('story-recommend')\n",
    "    r=driver.find_elements_by_class_name('story-txt')\n",
    "\n",
    "    for i in range(len(s)):\n",
    "        score.append(s[i].text.strip())\n",
    "        genre.append(g[i].text.strip())\n",
    "        review.append(r[i].text.strip()) \n",
    "        \n",
    "    print(page)\n",
    "    page1=page+1\n",
    "    if(page1%10==1):\n",
    "        nextpage=driver.find_element_by_css_selector('#contentData > div > div.movie-idv-story > nav > a.control.next')\n",
    "    else:\n",
    "        page1=page1%10\n",
    "        if(page1==0):page1=10\n",
    "        if(page>=11):page1=page1+2\n",
    "        nextpage=driver.find_element_by_css_selector('#contentData > div > div.movie-idv-story > nav> a:nth-child('+str(page1)+')')\n",
    "    print(\"page end:\"+str(page))\n",
    "    nextpage.click()\n",
    "    \n",
    "\n",
    "with open('output/movie.csv','wt',encoding=\"utf-8\") as f:\n",
    "    f.write(\"score,genre,review\\n\")\n",
    "    for i in range(len(score)):\n",
    "        f.write(score[i]+\",\"+genre[i]+\",\"+review[i]+\"\\n\")\n",
    "    "
   ]
  }
 ],
 "metadata": {
  "kernelspec": {
   "display_name": "pydatavenv",
   "language": "python",
   "name": "pydatavenv"
  },
  "language_info": {
   "codemirror_mode": {
    "name": "ipython",
    "version": 3
   },
   "file_extension": ".py",
   "mimetype": "text/x-python",
   "name": "python",
   "nbconvert_exporter": "python",
   "pygments_lexer": "ipython3",
   "version": "3.9.12"
  }
 },
 "nbformat": 4,
 "nbformat_minor": 5
}
