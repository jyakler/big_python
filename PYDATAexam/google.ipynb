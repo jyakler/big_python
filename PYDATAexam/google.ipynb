{
 "cells": [
  {
   "cell_type": "code",
   "execution_count": 1,
   "id": "b0a7d298-39fe-49fc-838c-dfddd182620c",
   "metadata": {},
   "outputs": [],
   "source": [
    "#구글계정으로 트위터 자동 회원가입 프로세스\n",
    "\n",
    "from selenium import webdriver\n",
    "from selenium.webdriver.common.keys import Keys\n",
    "# pip install undetected-chromedriver\n",
    "import undetected_chromedriver as uc\n",
    "import time\n",
    "# driver = webdriver.Chrome('C:/Temp/chromedriver')\n",
    "driver=uc.Chrome()\n",
    "url=\"http://www.google.com\"\n",
    "driver.get(url)\n",
    "time.sleep(3)"
   ]
  },
  {
   "cell_type": "code",
   "execution_count": 104,
   "id": "493410eb-812a-4179-bfb7-77c5ec385c5b",
   "metadata": {
    "tags": []
   },
   "outputs": [],
   "source": [
    "# # start=driver.getPageSource(\"Google 계정으로 가입하기\")\n",
    "# frame=driver.find_element_by_xpath('//iframe[@title=\"Google 계정으로 로그인 버튼\"]')\n",
    "# driver.switch_to.frame(frame)"
   ]
  },
  {
   "cell_type": "code",
   "execution_count": null,
   "id": "9e45d38c-f44b-477f-9594-4e6747f945da",
   "metadata": {},
   "outputs": [],
   "source": []
  },
  {
   "cell_type": "code",
   "execution_count": null,
   "id": "90c3ba5d-cfcb-4b54-92d5-bbd84136e812",
   "metadata": {},
   "outputs": [],
   "source": []
  }
 ],
 "metadata": {
  "kernelspec": {
   "display_name": "pydatavenv",
   "language": "python",
   "name": "pydatavenv"
  },
  "language_info": {
   "codemirror_mode": {
    "name": "ipython",
    "version": 3
   },
   "file_extension": ".py",
   "mimetype": "text/x-python",
   "name": "python",
   "nbconvert_exporter": "python",
   "pygments_lexer": "ipython3",
   "version": "3.9.12"
  }
 },
 "nbformat": 4,
 "nbformat_minor": 5
}
