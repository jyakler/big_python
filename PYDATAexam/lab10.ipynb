{
 "cells": [
  {
   "cell_type": "code",
   "execution_count": 13,
   "id": "0b679774-ead0-412b-b4c8-2197aff75974",
   "metadata": {},
   "outputs": [
    {
     "name": "stdout",
     "output_type": "stream",
     "text": [
      "  name  kor  eng  mat class\n",
      "0   둘리   90   99   90    1반\n",
      "1   또치   80   98   70    2반\n",
      "2  도우너   70   97   70    1반\n",
      "3  희동이   70   46   60    2반\n"
     ]
    }
   ],
   "source": [
    "import pandas as pd\n",
    "data = {\n",
    "    'name':['둘리', '또치', '도우너', '희동이'],\n",
    "    'kor':[90, 80, 70, 70],\n",
    "    'eng':[99, 98, 97, 46],\n",
    "    'mat':[90, 70, 70, 60],\n",
    "}\n",
    "df = pd.DataFrame(data)\n",
    "df['class']=['1반','2반','1반','2반']\n",
    "print(df)"
   ]
  },
  {
   "cell_type": "code",
   "execution_count": 14,
   "id": "76e1a26f-cfac-4edf-a12b-600036f4afd2",
   "metadata": {},
   "outputs": [
    {
     "name": "stdout",
     "output_type": "stream",
     "text": [
      "  name  kor  eng  mat class\n",
      "0   둘리   90   99   90    1반\n",
      "1   또치   80   98   70    2반\n",
      "2  도우너   70   97   70    1반\n",
      "3  희동이   70   46   60    2반\n",
      "4  마이콜   80   80   80    1반\n"
     ]
    }
   ],
   "source": [
    "df.loc[4]=['마이콜',80,80,80,'1반']\n",
    "print(df)"
   ]
  },
  {
   "cell_type": "code",
   "execution_count": 15,
   "id": "3b4516f9-e525-481c-ba9a-d0109b65708b",
   "metadata": {},
   "outputs": [
    {
     "name": "stdout",
     "output_type": "stream",
     "text": [
      "      국어  영어  수학 반번호\n",
      "name                \n",
      "둘리    90  99  90  1반\n",
      "또치    80  98  70  2반\n",
      "도우너   70  97  70  1반\n",
      "희동이   70  46  60  2반\n",
      "마이콜   80  80  80  1반\n"
     ]
    }
   ],
   "source": [
    "df.set_index('name',inplace=True)\n",
    "\n",
    "df.columns=[\"국어\",'영어','수학','반번호']\n",
    "print(df)"
   ]
  },
  {
   "cell_type": "code",
   "execution_count": 16,
   "id": "6485e719-6ae7-4e49-a281-0136cb2009c8",
   "metadata": {},
   "outputs": [
    {
     "name": "stdout",
     "output_type": "stream",
     "text": [
      "       국어   영어   수학 반번호\n",
      "name                   \n",
      "둘리     90   99   90  1반\n",
      "또치     80   98   70  2반\n",
      "도우너    70   97   70  1반\n",
      "희동이    70   90   60  2반\n",
      "마이콜   100  100  100  1반\n"
     ]
    }
   ],
   "source": [
    "df.loc['마이콜']=[100,100,100,'1반']\n",
    "\n",
    "df.loc['희동이','영어']=90\n",
    "print(df)"
   ]
  },
  {
   "cell_type": "code",
   "execution_count": 17,
   "id": "410bb4bd-3ae7-4d26-ab58-9852b6a4d31f",
   "metadata": {},
   "outputs": [
    {
     "name": "stdout",
     "output_type": "stream",
     "text": [
      "  name   국어   영어   수학 반번호\n",
      "0   둘리   90   99   90  1반\n",
      "1   또치   80   98   70  2반\n",
      "2  도우너   70   97   70  1반\n",
      "3  희동이   70   90   60  2반\n",
      "4  마이콜  100  100  100  1반\n",
      "    성명   국어   영어   수학 반번호\n",
      "0   둘리   90   99   90  1반\n",
      "1   또치   80   98   70  2반\n",
      "2  도우너   70   97   70  1반\n",
      "3  희동이   70   90   60  2반\n",
      "4  마이콜  100  100  100  1반\n"
     ]
    }
   ],
   "source": [
    "df=df.reset_index()\n",
    "print(df)\n",
    "df=df.rename(columns={'name':'성명'})\n",
    "print(df)"
   ]
  },
  {
   "cell_type": "code",
   "execution_count": 18,
   "id": "0b6930aa-9df8-4f48-b4a0-acafc9696bf7",
   "metadata": {},
   "outputs": [
    {
     "name": "stdout",
     "output_type": "stream",
     "text": [
      "    성명   국어   영어   수학 반번호\n",
      "4  마이콜  100  100  100  1반\n",
      "0   둘리   90   99   90  1반\n",
      "1   또치   80   98   70  2반\n",
      "2  도우너   70   97   70  1반\n",
      "3  희동이   70   90   60  2반\n",
      "    성명   국어   영어   수학 반번호\n",
      "3  희동이   70   90   60  2반\n",
      "2  도우너   70   97   70  1반\n",
      "1   또치   80   98   70  2반\n",
      "0   둘리   90   99   90  1반\n",
      "4  마이콜  100  100  100  1반\n"
     ]
    }
   ],
   "source": [
    "df1=df.sort_values(by='국어',ascending=False)\n",
    "print(df1)\n",
    "df2=df.sort_values(by='영어',ascending=True)\n",
    "print(df2)"
   ]
  },
  {
   "cell_type": "code",
   "execution_count": 20,
   "id": "25b87382-0f6c-4753-be55-10f73d103fe7",
   "metadata": {},
   "outputs": [
    {
     "name": "stdout",
     "output_type": "stream",
     "text": [
      "    성명   국어   영어   수학 반번호   총점\n",
      "4  마이콜  100  100  100  1반  300\n",
      "0   둘리   90   99   90  1반  279\n",
      "1   또치   80   98   70  2반  248\n",
      "2  도우너   70   97   70  1반  237\n",
      "3  희동이   70   90   60  2반  220\n"
     ]
    }
   ],
   "source": [
    "sumall=df['국어']+df['영어']+df['수학']\n",
    "df['총점']=sumall\n",
    "df=df.sort_values(by='총점',ascending=False)\n",
    "print(df)"
   ]
  },
  {
   "cell_type": "code",
   "execution_count": 21,
   "id": "6a18d247-befa-472f-99c3-cbb344632d1c",
   "metadata": {},
   "outputs": [
    {
     "name": "stdout",
     "output_type": "stream",
     "text": [
      "    성명   국어   영어   수학 반번호   총점\n",
      "4  마이콜  100  100  100  1반  300\n",
      "0   둘리   90   99   90  1반  279\n",
      "1   또치   80   98   70  2반  248\n",
      "2  도우너   70   97   70  1반  237\n",
      "3  희동이   70   90   60  2반  220\n",
      "    성명   국어   영어   수학   총점\n",
      "4  마이콜  100  100  100  300\n",
      "0   둘리   90   99   90  279\n",
      "1   또치   80   98   70  248\n",
      "2  도우너   70   97   70  237\n",
      "3  희동이   70   90   60  220\n"
     ]
    }
   ],
   "source": [
    "df3=df.drop('반번호',axis=1)\n",
    "print(df)\n",
    "print(df3)"
   ]
  },
  {
   "cell_type": "code",
   "execution_count": 22,
   "id": "6628c2fc-d0d1-4b85-8fc0-40bfc4a01e52",
   "metadata": {},
   "outputs": [
    {
     "name": "stdout",
     "output_type": "stream",
     "text": [
      "    성명   국어   영어   수학 반번호   총점\n",
      "4  마이콜  100  100  100  1반  300\n",
      "0   둘리   90   99   90  1반  279\n",
      "1   또치   80   98   70  2반  248\n",
      "2  도우너   70   97   70  1반  237\n",
      "3  희동이   70   90   60  2반  220\n",
      "    성명  국어  영어  수학 반번호   총점\n",
      "0   둘리  90  99  90  1반  279\n",
      "1   또치  80  98  70  2반  248\n",
      "2  도우너  70  97  70  1반  237\n",
      "3  희동이  70  90  60  2반  220\n"
     ]
    }
   ],
   "source": [
    "df4=df.drop(4,axis=0)\n",
    "print(df)\n",
    "print(df4)"
   ]
  },
  {
   "cell_type": "code",
   "execution_count": 25,
   "id": "c34a56e3-6ad2-4437-ac3d-f69398cdbbde",
   "metadata": {},
   "outputs": [
    {
     "name": "stdout",
     "output_type": "stream",
     "text": [
      "eng    140.0\n",
      "kor    270.0\n",
      "mat    160.0\n",
      "dtype: float64\n"
     ]
    }
   ],
   "source": [
    "import numpy as np\n",
    "data1 = {'kor':90, 'mat':80}\n",
    "data2 = {'kor':90, 'eng':70}\n",
    "data3 = {'kor':90, 'eng':70, 'mat':80}\n",
    "series1 = pd.Series( data1 )\n",
    "series2 = pd.Series( data2 )\n",
    "series3 = pd.Series( data3 )\n",
    "# result = series1 + series2 + series3\n",
    "result=series1.add(series2,fill_value=0)\n",
    "result=result.add(series3,fill_value=0)\n",
    "print(result)\n"
   ]
  },
  {
   "cell_type": "code",
   "execution_count": 36,
   "id": "de7ba7c1-2b7f-4580-ae6b-ac65cbf01f50",
   "metadata": {
    "collapsed": true,
    "jupyter": {
     "outputs_hidden": true
    },
    "tags": []
   },
   "outputs": [
    {
     "name": "stdout",
     "output_type": "stream",
     "text": [
      "      X1    X2    X3  X4\n",
      "Y1   2.9   9.2  13.2   2\n",
      "Y2   2.4   8.7  11.5   3\n",
      "Y3   2.0   7.2  10.8   4\n",
      "Y4   2.3   8.5  12.3   3\n",
      "Y5   3.2   9.6  12.6   2\n",
      "Y6  10.0  20.0  30.0  40\n",
      "      X1    X2    X3  X4\n",
      "Y1  12.9  19.2  23.2  12\n",
      "Y2  12.4  18.7  21.5  13\n",
      "Y3  12.0  17.2  20.8  14\n",
      "Y4  12.3  18.5  22.3  13\n",
      "Y5  13.2  19.6  22.6  12\n",
      "Y6  20.0  30.0  40.0  50\n",
      "      X1    X2    X3  X4  total\n",
      "Y1  12.9  19.2  23.2  12   67.3\n",
      "Y2  12.4  18.7  21.5  13   65.6\n",
      "Y3  12.0  17.2  20.8  14   64.0\n",
      "Y4  12.3  18.5  22.3  13   66.1\n",
      "Y5  13.2  19.6  22.6  12   67.4\n",
      "Y6  20.0  30.0  40.0  50  140.0\n",
      "         Y1    Y2    Y3    Y4    Y5     Y6\n",
      "X1     12.9  12.4  12.0  12.3  13.2   20.0\n",
      "X2     19.2  18.7  17.2  18.5  19.6   30.0\n",
      "X3     23.2  21.5  20.8  22.3  22.6   40.0\n",
      "X4     12.0  13.0  14.0  13.0  12.0   50.0\n",
      "total  67.3  65.6  64.0  66.1  67.4  140.0\n"
     ]
    }
   ],
   "source": [
    "data = {\n",
    "    'X1':[2.9, 2.4, 2, 2.3, 3.2,10.0],\n",
    "    'X2':[9.2, 8.7, 7.2, 8.5, 9.6,20.0],\n",
    "    'X3':[13.2, 11.5, 10.8, 12.3, 12.6,30.0],\n",
    "    'X4':[2, 3, 4, 3, 2,40]\n",
    "} \n",
    "df = pd.DataFrame(data, index=['Y1','Y2','Y3', 'Y4', 'Y5','Y6'])\n",
    "\n",
    "print(df)\n",
    "df=df+10\n",
    "print(df)\n",
    "sumall=df['X1']+df['X2']+df['X3']+df['X4']\n",
    "df['total']=sumall\n",
    "print(df)\n",
    "print(df.transpose())"
   ]
  },
  {
   "cell_type": "code",
   "execution_count": null,
   "id": "e371766f-641d-4423-9bab-87724eb01b3f",
   "metadata": {},
   "outputs": [],
   "source": []
  }
 ],
 "metadata": {
  "kernelspec": {
   "display_name": "pydatavenv",
   "language": "python",
   "name": "pydatavenv"
  },
  "language_info": {
   "codemirror_mode": {
    "name": "ipython",
    "version": 3
   },
   "file_extension": ".py",
   "mimetype": "text/x-python",
   "name": "python",
   "nbconvert_exporter": "python",
   "pygments_lexer": "ipython3",
   "version": "3.9.12"
  }
 },
 "nbformat": 4,
 "nbformat_minor": 5
}
