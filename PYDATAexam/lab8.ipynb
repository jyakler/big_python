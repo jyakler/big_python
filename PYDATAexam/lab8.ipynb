{
 "cells": [
  {
   "cell_type": "code",
   "execution_count": 42,
   "id": "6b3c0c70-ca9d-4bd7-8a81-b02850bd375f",
   "metadata": {},
   "outputs": [
    {
     "name": "stdout",
     "output_type": "stream",
     "text": [
      "[ 짜장면에 대한 네이버 지역 정보(xml) ]\n",
      "1 : 지린성,전라북도 군산시 미원로 87\n",
      "2 : 신승반점,인천광역시 중구 차이나타운로44번길 31-3\n",
      "3 : 목란,서울특별시 서대문구 연희로15길 21\n",
      "4 : 연경,인천광역시 중구 차이나타운로 41\n",
      "5 : 송죽장,서울특별시 영등포구 문래로 203\n",
      "\n",
      "[ 쌀국수에 대한 네이버 지역 정보(json) ]\n",
      "1 : 레호이 소월길 본점,서울특별시 용산구 소월로38가길 5\n",
      "2 : 에머이 종로1호점(본점),서울특별시 종로구 종로12길 6-20\n",
      "3 : 에머이 가로수길,서울특별시 강남구 도산대로15길 8\n",
      "4 : 72420 사당본점,서울특별시 동작구 동작대로1길 50 1층\n",
      "5 : 더포 본점,대구광역시 달서구 와룡로 169 월드마크 웨스트엔드 상가 107동 110호~111호\n",
      "\n"
     ]
    }
   ],
   "source": [
    "import urllib.request as req\n",
    "import urllib\n",
    "import json\n",
    "from bs4 import BeautifulSoup\n",
    "\n",
    "client_key = 'izGsqP2exeThwwEUVU3x'\n",
    "client_secret = 'WrwbQ1l6ZI'\n",
    "url=\"https://openapi.naver.com/v1/search/local.\"\n",
    "\n",
    "def naver_search(keyword,callType='json'):\n",
    "    encText= urllib.parse.quote_plus(keyword)\n",
    "\n",
    "    naver_url=url+callType+\"?query=\"+encText+ '&display=' + str(5)\n",
    "    request=urllib.request.Request(naver_url)\n",
    "    request.add_header(\"X-Naver-Client-Id\",client_key)\n",
    "    request.add_header(\"X-Naver-Client-Secret\",client_secret)\n",
    "    respond=req.urlopen(request)\n",
    "    name=[]\n",
    "    address=[]\n",
    "    if(respond.getcode()==200):\n",
    "        text=respond.read()\n",
    "        if(callType=='xml'):\n",
    "            data=BeautifulSoup(text,'xml')\n",
    "            for a in data.find_all(\"item\"):\n",
    "                name.append(a.title.text)\n",
    "                address.append(a.roadAddress.text)\n",
    "        else:\n",
    "            data=json.loads(text)\n",
    "            for a in data['items']:\n",
    "                name.append(a['title'])\n",
    "                address.append(a['roadAddress'])\n",
    "    print(\"[ \"+keyword+\"에 대한 네이버 지역 정보(\"+callType+\") ]\")\n",
    "    for i in range(5):\n",
    "        print(str(i+1)+\" : \"+name[i]+\",\"+address[i])\n",
    "    print()\n",
    "naver_search(\"짜장면\",'xml')\n",
    "naver_search(\"쌀국수\")"
   ]
  },
  {
   "cell_type": "code",
   "execution_count": null,
   "id": "216ee4f6-1d71-4dc1-bd16-040be7612220",
   "metadata": {},
   "outputs": [],
   "source": []
  }
 ],
 "metadata": {
  "kernelspec": {
   "display_name": "pydatavenv",
   "language": "python",
   "name": "pydatavenv"
  },
  "language_info": {
   "codemirror_mode": {
    "name": "ipython",
    "version": 3
   },
   "file_extension": ".py",
   "mimetype": "text/x-python",
   "name": "python",
   "nbconvert_exporter": "python",
   "pygments_lexer": "ipython3",
   "version": "3.9.12"
  }
 },
 "nbformat": 4,
 "nbformat_minor": 5
}
