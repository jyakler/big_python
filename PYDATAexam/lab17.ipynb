{
 "cells": [
  {
   "cell_type": "code",
   "execution_count": 8,
   "id": "944a8308-02f4-4f79-99f4-9375353d84c8",
   "metadata": {},
   "outputs": [],
   "source": [
    "import pandas as pd\n",
    "import numpy as np\n",
    "import datetime"
   ]
  },
  {
   "cell_type": "code",
   "execution_count": 10,
   "id": "b62e831e-612b-437c-8bb5-ad9b97339720",
   "metadata": {
    "tags": []
   },
   "outputs": [
    {
     "data": {
      "text/plain": [
       "DatetimeIndex(['2022-04-27 17:09:06.411574', '2022-04-28 17:09:06.411574',\n",
       "               '2022-04-29 17:09:06.411574', '2022-04-30 17:09:06.411574',\n",
       "               '2022-05-01 17:09:06.411574', '2022-05-02 17:09:06.411574',\n",
       "               '2022-05-03 17:09:06.411574', '2022-05-04 17:09:06.411574',\n",
       "               '2022-05-05 17:09:06.411574', '2022-05-06 17:09:06.411574',\n",
       "               '2022-05-07 17:09:06.411574', '2022-05-08 17:09:06.411574',\n",
       "               '2022-05-09 17:09:06.411574', '2022-05-10 17:09:06.411574',\n",
       "               '2022-05-11 17:09:06.411574', '2022-05-12 17:09:06.411574',\n",
       "               '2022-05-13 17:09:06.411574', '2022-05-14 17:09:06.411574',\n",
       "               '2022-05-15 17:09:06.411574', '2022-05-16 17:09:06.411574',\n",
       "               '2022-05-17 17:09:06.411574', '2022-05-18 17:09:06.411574'],\n",
       "              dtype='datetime64[ns]', freq='D')"
      ]
     },
     "execution_count": 10,
     "metadata": {},
     "output_type": "execute_result"
    }
   ],
   "source": [
    "pd.date_range(datetime.datetime.now(),periods=22,freq='D')"
   ]
  },
  {
   "cell_type": "code",
   "execution_count": 11,
   "id": "88719199-a2ac-4b48-9cf9-0eea70c4a88d",
   "metadata": {},
   "outputs": [
    {
     "data": {
      "text/plain": [
       "DatetimeIndex(['2022-04-27 17:09:23.167616', '2022-04-28 17:09:23.167616',\n",
       "               '2022-04-29 17:09:23.167616', '2022-04-30 17:09:23.167616',\n",
       "               '2022-05-01 17:09:23.167616', '2022-05-02 17:09:23.167616',\n",
       "               '2022-05-03 17:09:23.167616', '2022-05-04 17:09:23.167616',\n",
       "               '2022-05-05 17:09:23.167616', '2022-05-06 17:09:23.167616',\n",
       "               '2022-05-07 17:09:23.167616', '2022-05-08 17:09:23.167616',\n",
       "               '2022-05-09 17:09:23.167616', '2022-05-10 17:09:23.167616',\n",
       "               '2022-05-11 17:09:23.167616', '2022-05-12 17:09:23.167616',\n",
       "               '2022-05-13 17:09:23.167616', '2022-05-14 17:09:23.167616',\n",
       "               '2022-05-15 17:09:23.167616', '2022-05-16 17:09:23.167616',\n",
       "               '2022-05-17 17:09:23.167616', '2022-05-18 17:09:23.167616',\n",
       "               '2022-05-19 17:09:23.167616', '2022-05-20 17:09:23.167616',\n",
       "               '2022-05-21 17:09:23.167616', '2022-05-22 17:09:23.167616',\n",
       "               '2022-05-23 17:09:23.167616', '2022-05-24 17:09:23.167616',\n",
       "               '2022-05-25 17:09:23.167616', '2022-05-26 17:09:23.167616',\n",
       "               '2022-05-27 17:09:23.167616', '2022-05-28 17:09:23.167616',\n",
       "               '2022-05-29 17:09:23.167616', '2022-05-30 17:09:23.167616',\n",
       "               '2022-05-31 17:09:23.167616', '2022-06-01 17:09:23.167616',\n",
       "               '2022-06-02 17:09:23.167616', '2022-06-03 17:09:23.167616',\n",
       "               '2022-06-04 17:09:23.167616', '2022-06-05 17:09:23.167616',\n",
       "               '2022-06-06 17:09:23.167616', '2022-06-07 17:09:23.167616',\n",
       "               '2022-06-08 17:09:23.167616', '2022-06-09 17:09:23.167616',\n",
       "               '2022-06-10 17:09:23.167616', '2022-06-11 17:09:23.167616',\n",
       "               '2022-06-12 17:09:23.167616', '2022-06-13 17:09:23.167616',\n",
       "               '2022-06-14 17:09:23.167616', '2022-06-15 17:09:23.167616',\n",
       "               '2022-06-16 17:09:23.167616', '2022-06-17 17:09:23.167616',\n",
       "               '2022-06-18 17:09:23.167616', '2022-06-19 17:09:23.167616',\n",
       "               '2022-06-20 17:09:23.167616', '2022-06-21 17:09:23.167616',\n",
       "               '2022-06-22 17:09:23.167616', '2022-06-23 17:09:23.167616',\n",
       "               '2022-06-24 17:09:23.167616', '2022-06-25 17:09:23.167616',\n",
       "               '2022-06-26 17:09:23.167616', '2022-06-27 17:09:23.167616',\n",
       "               '2022-06-28 17:09:23.167616'],\n",
       "              dtype='datetime64[ns]', freq='D')"
      ]
     },
     "execution_count": 11,
     "metadata": {},
     "output_type": "execute_result"
    }
   ],
   "source": [
    "pd.date_range(datetime.datetime.now(),periods=63,freq='D')"
   ]
  },
  {
   "cell_type": "code",
   "execution_count": 12,
   "id": "a5dcc3fb-5003-404c-b9a3-942464ac7fd0",
   "metadata": {},
   "outputs": [
    {
     "data": {
      "text/plain": [
       "DatetimeIndex(['2021-01-31', '2021-02-28', '2021-03-31', '2021-04-30',\n",
       "               '2021-05-31', '2021-06-30', '2021-07-31', '2021-08-31',\n",
       "               '2021-09-30', '2021-10-31', '2021-11-30', '2021-12-31'],\n",
       "              dtype='datetime64[ns]', freq='M')"
      ]
     },
     "execution_count": 12,
     "metadata": {},
     "output_type": "execute_result"
    }
   ],
   "source": [
    "pd.date_range('2021',periods=12,freq='M')"
   ]
  },
  {
   "cell_type": "code",
   "execution_count": 13,
   "id": "a2afcc26-45fe-4dc1-9899-0504a7767108",
   "metadata": {},
   "outputs": [
    {
     "data": {
      "text/plain": [
       "DatetimeIndex(['2021-01-01', '2021-02-01', '2021-03-01', '2021-04-01',\n",
       "               '2021-05-01', '2021-06-01', '2021-07-01', '2021-08-01',\n",
       "               '2021-09-01', '2021-10-01', '2021-11-01', '2021-12-01'],\n",
       "              dtype='datetime64[ns]', freq='MS')"
      ]
     },
     "execution_count": 13,
     "metadata": {},
     "output_type": "execute_result"
    }
   ],
   "source": [
    "pd.date_range('2021',periods=12,freq='MS')"
   ]
  },
  {
   "cell_type": "code",
   "execution_count": 16,
   "id": "ca01b147-145c-462d-a50d-c5fa65a5f04c",
   "metadata": {},
   "outputs": [
    {
     "data": {
      "text/plain": [
       "DatetimeIndex(['2022-04-27 00:00:00', '2022-04-27 01:00:00',\n",
       "               '2022-04-27 02:00:00', '2022-04-27 03:00:00',\n",
       "               '2022-04-27 04:00:00', '2022-04-27 05:00:00',\n",
       "               '2022-04-27 06:00:00', '2022-04-27 07:00:00',\n",
       "               '2022-04-27 08:00:00', '2022-04-27 09:00:00',\n",
       "               ...\n",
       "               '2022-05-04 15:00:00', '2022-05-04 16:00:00',\n",
       "               '2022-05-04 17:00:00', '2022-05-04 18:00:00',\n",
       "               '2022-05-04 19:00:00', '2022-05-04 20:00:00',\n",
       "               '2022-05-04 21:00:00', '2022-05-04 22:00:00',\n",
       "               '2022-05-04 23:00:00', '2022-05-05 00:00:00'],\n",
       "              dtype='datetime64[ns]', length=193, freq='H')"
      ]
     },
     "execution_count": 16,
     "metadata": {},
     "output_type": "execute_result"
    }
   ],
   "source": [
    "pd.date_range(start='2022-04-27',end='2022-05-05',freq='H')"
   ]
  },
  {
   "cell_type": "code",
   "execution_count": 17,
   "id": "19a9ec1c-3a91-44e3-93d9-380c2160bc59",
   "metadata": {},
   "outputs": [
    {
     "data": {
      "text/plain": [
       "DatetimeIndex(['2022-04-27 00:00:00', '2022-04-27 03:00:00',\n",
       "               '2022-04-27 06:00:00', '2022-04-27 09:00:00',\n",
       "               '2022-04-27 12:00:00', '2022-04-27 15:00:00',\n",
       "               '2022-04-27 18:00:00', '2022-04-27 21:00:00',\n",
       "               '2022-04-28 00:00:00', '2022-04-28 03:00:00',\n",
       "               '2022-04-28 06:00:00', '2022-04-28 09:00:00',\n",
       "               '2022-04-28 12:00:00', '2022-04-28 15:00:00',\n",
       "               '2022-04-28 18:00:00', '2022-04-28 21:00:00',\n",
       "               '2022-04-29 00:00:00', '2022-04-29 03:00:00',\n",
       "               '2022-04-29 06:00:00', '2022-04-29 09:00:00',\n",
       "               '2022-04-29 12:00:00', '2022-04-29 15:00:00',\n",
       "               '2022-04-29 18:00:00', '2022-04-29 21:00:00',\n",
       "               '2022-04-30 00:00:00', '2022-04-30 03:00:00',\n",
       "               '2022-04-30 06:00:00', '2022-04-30 09:00:00',\n",
       "               '2022-04-30 12:00:00', '2022-04-30 15:00:00',\n",
       "               '2022-04-30 18:00:00', '2022-04-30 21:00:00',\n",
       "               '2022-05-01 00:00:00', '2022-05-01 03:00:00',\n",
       "               '2022-05-01 06:00:00', '2022-05-01 09:00:00',\n",
       "               '2022-05-01 12:00:00', '2022-05-01 15:00:00',\n",
       "               '2022-05-01 18:00:00', '2022-05-01 21:00:00',\n",
       "               '2022-05-02 00:00:00', '2022-05-02 03:00:00',\n",
       "               '2022-05-02 06:00:00', '2022-05-02 09:00:00',\n",
       "               '2022-05-02 12:00:00', '2022-05-02 15:00:00',\n",
       "               '2022-05-02 18:00:00', '2022-05-02 21:00:00',\n",
       "               '2022-05-03 00:00:00', '2022-05-03 03:00:00',\n",
       "               '2022-05-03 06:00:00', '2022-05-03 09:00:00',\n",
       "               '2022-05-03 12:00:00', '2022-05-03 15:00:00',\n",
       "               '2022-05-03 18:00:00', '2022-05-03 21:00:00',\n",
       "               '2022-05-04 00:00:00', '2022-05-04 03:00:00',\n",
       "               '2022-05-04 06:00:00', '2022-05-04 09:00:00',\n",
       "               '2022-05-04 12:00:00', '2022-05-04 15:00:00',\n",
       "               '2022-05-04 18:00:00', '2022-05-04 21:00:00',\n",
       "               '2022-05-05 00:00:00', '2022-05-05 03:00:00',\n",
       "               '2022-05-05 06:00:00', '2022-05-05 09:00:00',\n",
       "               '2022-05-05 12:00:00', '2022-05-05 15:00:00',\n",
       "               '2022-05-05 18:00:00'],\n",
       "              dtype='datetime64[ns]', freq='3H')"
      ]
     },
     "execution_count": 17,
     "metadata": {},
     "output_type": "execute_result"
    }
   ],
   "source": [
    "pd.date_range(start='2022-04-27',end='2022-05-05 18:00:00',freq='3H')"
   ]
  },
  {
   "cell_type": "code",
   "execution_count": 18,
   "id": "d973d171-ef9d-44f9-9e64-0712451b511b",
   "metadata": {},
   "outputs": [
    {
     "data": {
      "text/plain": [
       "DatetimeIndex(['2022-01-31', '2022-03-31', '2022-05-31', '2022-07-31',\n",
       "               '2022-09-30', '2022-11-30', '2023-01-31', '2023-03-31'],\n",
       "              dtype='datetime64[ns]', freq='2M')"
      ]
     },
     "execution_count": 18,
     "metadata": {},
     "output_type": "execute_result"
    }
   ],
   "source": [
    "pd.date_range(start='2022-01-01',periods=8,freq='2M')"
   ]
  },
  {
   "cell_type": "code",
   "execution_count": 62,
   "id": "29037979-6aee-471a-b418-d01fc78560b2",
   "metadata": {},
   "outputs": [
    {
     "name": "stdout",
     "output_type": "stream",
     "text": [
      "<class 'pandas.core.frame.DataFrame'>\n",
      "RangeIndex: 746 entries, 0 to 745\n",
      "Data columns (total 3 columns):\n",
      " #   Column        Non-Null Count  Dtype         \n",
      "---  ------        --------------  -----         \n",
      " 0   oldclicktime  746 non-null    object        \n",
      " 1   clickpid      746 non-null    object        \n",
      " 2   newclicktime  746 non-null    datetime64[ns]\n",
      "dtypes: datetime64[ns](1), object(2)\n",
      "memory usage: 17.6+ KB\n",
      "None\n"
     ]
    },
    {
     "data": {
      "text/html": [
       "<div>\n",
       "<style scoped>\n",
       "    .dataframe tbody tr th:only-of-type {\n",
       "        vertical-align: middle;\n",
       "    }\n",
       "\n",
       "    .dataframe tbody tr th {\n",
       "        vertical-align: top;\n",
       "    }\n",
       "\n",
       "    .dataframe thead th {\n",
       "        text-align: right;\n",
       "    }\n",
       "</style>\n",
       "<table border=\"1\" class=\"dataframe\">\n",
       "  <thead>\n",
       "    <tr style=\"text-align: right;\">\n",
       "      <th></th>\n",
       "      <th>oldclicktime</th>\n",
       "      <th>clickpid</th>\n",
       "      <th>newclicktime</th>\n",
       "    </tr>\n",
       "  </thead>\n",
       "  <tbody>\n",
       "    <tr>\n",
       "      <th>0</th>\n",
       "      <td>201612120944</td>\n",
       "      <td>p001</td>\n",
       "      <td>2016-12-12 09:44:00</td>\n",
       "    </tr>\n",
       "    <tr>\n",
       "      <th>1</th>\n",
       "      <td>201612120944</td>\n",
       "      <td>p003</td>\n",
       "      <td>2016-12-12 09:44:00</td>\n",
       "    </tr>\n",
       "    <tr>\n",
       "      <th>2</th>\n",
       "      <td>201612120944</td>\n",
       "      <td>p003</td>\n",
       "      <td>2016-12-12 09:44:00</td>\n",
       "    </tr>\n",
       "    <tr>\n",
       "      <th>3</th>\n",
       "      <td>201612120945</td>\n",
       "      <td>p008</td>\n",
       "      <td>2016-12-12 09:45:00</td>\n",
       "    </tr>\n",
       "    <tr>\n",
       "      <th>4</th>\n",
       "      <td>201612121052</td>\n",
       "      <td>p008</td>\n",
       "      <td>2016-12-12 10:52:00</td>\n",
       "    </tr>\n",
       "  </tbody>\n",
       "</table>\n",
       "</div>"
      ],
      "text/plain": [
       "   oldclicktime clickpid        newclicktime\n",
       "0  201612120944     p001 2016-12-12 09:44:00\n",
       "1  201612120944     p003 2016-12-12 09:44:00\n",
       "2  201612120944     p003 2016-12-12 09:44:00\n",
       "3  201612120945     p008 2016-12-12 09:45:00\n",
       "4  201612121052     p008 2016-12-12 10:52:00"
      ]
     },
     "metadata": {},
     "output_type": "display_data"
    }
   ],
   "source": [
    "data=pd.read_csv('data/product_click.log',header=None,sep=\" \",dtype='object')\n",
    "\n",
    "data.columns=['oldclicktime','clickpid']\n",
    "\n",
    "data['newclicktime']=pd.to_datetime(data['oldclicktime'])\n",
    "print(data.info())\n",
    "display(data.head(5))"
   ]
  },
  {
   "cell_type": "code",
   "execution_count": 67,
   "id": "65a9d0ac-d972-421e-aa2e-c9e568864e8d",
   "metadata": {},
   "outputs": [
    {
     "name": "stdout",
     "output_type": "stream",
     "text": [
      "<class 'pandas.core.frame.DataFrame'>\n",
      "RangeIndex: 746 entries, 0 to 745\n",
      "Data columns (total 8 columns):\n",
      " #   Column        Non-Null Count  Dtype         \n",
      "---  ------        --------------  -----         \n",
      " 0   oldclicktime  746 non-null    object        \n",
      " 1   clickpid      746 non-null    object        \n",
      " 2   newclicktime  746 non-null    datetime64[ns]\n",
      " 3   year          746 non-null    int64         \n",
      " 4   month         746 non-null    int64         \n",
      " 5   day           746 non-null    int64         \n",
      " 6   hour          746 non-null    int64         \n",
      " 7   minute        746 non-null    int64         \n",
      "dtypes: datetime64[ns](1), int64(5), object(2)\n",
      "memory usage: 46.8+ KB\n",
      "None\n"
     ]
    },
    {
     "data": {
      "text/html": [
       "<div>\n",
       "<style scoped>\n",
       "    .dataframe tbody tr th:only-of-type {\n",
       "        vertical-align: middle;\n",
       "    }\n",
       "\n",
       "    .dataframe tbody tr th {\n",
       "        vertical-align: top;\n",
       "    }\n",
       "\n",
       "    .dataframe thead th {\n",
       "        text-align: right;\n",
       "    }\n",
       "</style>\n",
       "<table border=\"1\" class=\"dataframe\">\n",
       "  <thead>\n",
       "    <tr style=\"text-align: right;\">\n",
       "      <th></th>\n",
       "      <th>oldclicktime</th>\n",
       "      <th>clickpid</th>\n",
       "      <th>newclicktime</th>\n",
       "      <th>year</th>\n",
       "      <th>month</th>\n",
       "      <th>day</th>\n",
       "      <th>hour</th>\n",
       "      <th>minute</th>\n",
       "    </tr>\n",
       "  </thead>\n",
       "  <tbody>\n",
       "    <tr>\n",
       "      <th>0</th>\n",
       "      <td>201612120944</td>\n",
       "      <td>p001</td>\n",
       "      <td>2016-12-12 09:44:00</td>\n",
       "      <td>2016</td>\n",
       "      <td>12</td>\n",
       "      <td>12</td>\n",
       "      <td>9</td>\n",
       "      <td>44</td>\n",
       "    </tr>\n",
       "    <tr>\n",
       "      <th>1</th>\n",
       "      <td>201612120944</td>\n",
       "      <td>p003</td>\n",
       "      <td>2016-12-12 09:44:00</td>\n",
       "      <td>2016</td>\n",
       "      <td>12</td>\n",
       "      <td>12</td>\n",
       "      <td>9</td>\n",
       "      <td>44</td>\n",
       "    </tr>\n",
       "    <tr>\n",
       "      <th>2</th>\n",
       "      <td>201612120944</td>\n",
       "      <td>p003</td>\n",
       "      <td>2016-12-12 09:44:00</td>\n",
       "      <td>2016</td>\n",
       "      <td>12</td>\n",
       "      <td>12</td>\n",
       "      <td>9</td>\n",
       "      <td>44</td>\n",
       "    </tr>\n",
       "    <tr>\n",
       "      <th>3</th>\n",
       "      <td>201612120945</td>\n",
       "      <td>p008</td>\n",
       "      <td>2016-12-12 09:45:00</td>\n",
       "      <td>2016</td>\n",
       "      <td>12</td>\n",
       "      <td>12</td>\n",
       "      <td>9</td>\n",
       "      <td>45</td>\n",
       "    </tr>\n",
       "    <tr>\n",
       "      <th>4</th>\n",
       "      <td>201612121052</td>\n",
       "      <td>p008</td>\n",
       "      <td>2016-12-12 10:52:00</td>\n",
       "      <td>2016</td>\n",
       "      <td>12</td>\n",
       "      <td>12</td>\n",
       "      <td>10</td>\n",
       "      <td>52</td>\n",
       "    </tr>\n",
       "  </tbody>\n",
       "</table>\n",
       "</div>"
      ],
      "text/plain": [
       "   oldclicktime clickpid        newclicktime  year  month  day  hour  minute\n",
       "0  201612120944     p001 2016-12-12 09:44:00  2016     12   12     9      44\n",
       "1  201612120944     p003 2016-12-12 09:44:00  2016     12   12     9      44\n",
       "2  201612120944     p003 2016-12-12 09:44:00  2016     12   12     9      44\n",
       "3  201612120945     p008 2016-12-12 09:45:00  2016     12   12     9      45\n",
       "4  201612121052     p008 2016-12-12 10:52:00  2016     12   12    10      52"
      ]
     },
     "metadata": {},
     "output_type": "display_data"
    }
   ],
   "source": [
    "newdata=data['newclicktime'].astype('str')\n",
    "\n",
    "date1=newdata.str.split(' ')\n",
    "dates=date1.str.get(0).str.split('-')\n",
    "date2=date1.str.get(1).str.split(':')\n",
    "data['year']=dates.str.get(0).astype('int64')\n",
    "data['month']=dates.str.get(1).astype('int64')\n",
    "data['day']=dates.str.get(2).astype('int64')\n",
    "data['hour']=date2.str.get(0).astype('int64')\n",
    "data['minute']=date2.str.get(1).astype('int64')\n",
    "print(data.info())\n",
    "\n",
    "display(data.head(5))"
   ]
  },
  {
   "cell_type": "code",
   "execution_count": 81,
   "id": "d9492ec7-4153-4fc5-a8cb-5194207fc4a0",
   "metadata": {},
   "outputs": [
    {
     "data": {
      "text/html": [
       "<div>\n",
       "<style scoped>\n",
       "    .dataframe tbody tr th:only-of-type {\n",
       "        vertical-align: middle;\n",
       "    }\n",
       "\n",
       "    .dataframe tbody tr th {\n",
       "        vertical-align: top;\n",
       "    }\n",
       "\n",
       "    .dataframe thead th {\n",
       "        text-align: right;\n",
       "    }\n",
       "</style>\n",
       "<table border=\"1\" class=\"dataframe\">\n",
       "  <thead>\n",
       "    <tr style=\"text-align: right;\">\n",
       "      <th></th>\n",
       "      <th>구별</th>\n",
       "      <th>CCTV수</th>\n",
       "      <th>인구수</th>\n",
       "      <th>한국인</th>\n",
       "      <th>외국인</th>\n",
       "      <th>고령자</th>\n",
       "      <th>CCTV비율</th>\n",
       "      <th>노인비율</th>\n",
       "    </tr>\n",
       "  </thead>\n",
       "  <tbody>\n",
       "    <tr>\n",
       "      <th>0</th>\n",
       "      <td>강남구</td>\n",
       "      <td>2780</td>\n",
       "      <td>570500.0</td>\n",
       "      <td>565550.0</td>\n",
       "      <td>4950.0</td>\n",
       "      <td>63167.0</td>\n",
       "      <td>0.487292</td>\n",
       "      <td>11.072217</td>\n",
       "    </tr>\n",
       "    <tr>\n",
       "      <th>1</th>\n",
       "      <td>강동구</td>\n",
       "      <td>773</td>\n",
       "      <td>453233.0</td>\n",
       "      <td>449019.0</td>\n",
       "      <td>4214.0</td>\n",
       "      <td>54622.0</td>\n",
       "      <td>0.170552</td>\n",
       "      <td>12.051638</td>\n",
       "    </tr>\n",
       "    <tr>\n",
       "      <th>2</th>\n",
       "      <td>강북구</td>\n",
       "      <td>748</td>\n",
       "      <td>330192.0</td>\n",
       "      <td>326686.0</td>\n",
       "      <td>3506.0</td>\n",
       "      <td>54813.0</td>\n",
       "      <td>0.226535</td>\n",
       "      <td>16.600342</td>\n",
       "    </tr>\n",
       "    <tr>\n",
       "      <th>3</th>\n",
       "      <td>강서구</td>\n",
       "      <td>884</td>\n",
       "      <td>603772.0</td>\n",
       "      <td>597248.0</td>\n",
       "      <td>6524.0</td>\n",
       "      <td>72548.0</td>\n",
       "      <td>0.146413</td>\n",
       "      <td>12.015794</td>\n",
       "    </tr>\n",
       "    <tr>\n",
       "      <th>4</th>\n",
       "      <td>관악구</td>\n",
       "      <td>1496</td>\n",
       "      <td>525515.0</td>\n",
       "      <td>507203.0</td>\n",
       "      <td>18312.0</td>\n",
       "      <td>68082.0</td>\n",
       "      <td>0.284673</td>\n",
       "      <td>12.955291</td>\n",
       "    </tr>\n",
       "  </tbody>\n",
       "</table>\n",
       "</div>"
      ],
      "text/plain": [
       "    구별  CCTV수       인구수       한국인      외국인      고령자    CCTV비율       노인비율\n",
       "0  강남구   2780  570500.0  565550.0   4950.0  63167.0  0.487292  11.072217\n",
       "1  강동구    773  453233.0  449019.0   4214.0  54622.0  0.170552  12.051638\n",
       "2  강북구    748  330192.0  326686.0   3506.0  54813.0  0.226535  16.600342\n",
       "3  강서구    884  603772.0  597248.0   6524.0  72548.0  0.146413  12.015794\n",
       "4  관악구   1496  525515.0  507203.0  18312.0  68082.0  0.284673  12.955291"
      ]
     },
     "metadata": {},
     "output_type": "display_data"
    }
   ],
   "source": [
    "d1=pd.read_csv('data/cctv_seoul.csv',encoding='utf-8')\n",
    "\n",
    "def pct(a,b):\n",
    "    return a/b*100\n",
    "\n",
    "d1['CCTV비율']=d1.apply(lambda x: pct(x['CCTV수'],x['인구수']),axis=1)\n",
    "d1['노인비율']=d1.apply(lambda x: pct(x['고령자'],x['인구수']),axis=1)\n",
    "\n",
    "display(d1.head(5))"
   ]
  },
  {
   "cell_type": "code",
   "execution_count": null,
   "id": "5660761b-c428-47fd-a31f-b6854f23db6f",
   "metadata": {},
   "outputs": [],
   "source": []
  }
 ],
 "metadata": {
  "kernelspec": {
   "display_name": "pydatavenv",
   "language": "python",
   "name": "pydatavenv"
  },
  "language_info": {
   "codemirror_mode": {
    "name": "ipython",
    "version": 3
   },
   "file_extension": ".py",
   "mimetype": "text/x-python",
   "name": "python",
   "nbconvert_exporter": "python",
   "pygments_lexer": "ipython3",
   "version": "3.9.12"
  }
 },
 "nbformat": 4,
 "nbformat_minor": 5
}
