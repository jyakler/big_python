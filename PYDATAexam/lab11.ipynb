{
 "cells": [
  {
   "cell_type": "code",
   "execution_count": 25,
   "id": "3092a827-5550-49ef-bec8-c261231617c7",
   "metadata": {},
   "outputs": [
    {
     "name": "stdout",
     "output_type": "stream",
     "text": [
      "Index(['name', 'kor', 'eng', 'mat', 'total', 'avg'], dtype='object')\n",
      "RangeIndex(start=0, stop=5, step=1)\n",
      "  name  kor  eng  mat  total   avg\n",
      "0   둘리   90   90   90    270 90.00\n",
      "1   또치   80   80   80    240 80.00\n",
      "2  도우너   70   70   70    210 70.00\n",
      "3  희동이   90   80   70    240 80.00\n",
      "4  마이콜   60   50   50    160 53.33\n"
     ]
    }
   ],
   "source": [
    "import pandas as pd\n",
    "data=pd.read_csv('./data/score.csv')\n",
    "total=data['eng']+data['kor']+data['mat']\n",
    "data['total']=total\n",
    "data['avg']=total/3\n",
    "pd.options.display.float_format = '{:.2f}'.format\n",
    "print(data.columns)\n",
    "print(data.index)\n",
    "print(data)"
   ]
  },
  {
   "cell_type": "code",
   "execution_count": 19,
   "id": "905491bc-0b73-4c32-9765-e0caf9be7d00",
   "metadata": {},
   "outputs": [
    {
     "name": "stdout",
     "output_type": "stream",
     "text": [
      "Int64Index([0, 1, 2, 3], dtype='int64')\n",
      "RangeIndex(start=0, stop=5, step=1)\n",
      "칼럼명 추가 ---------\n",
      "Index(['name', 'kor', 'eng', 'mat'], dtype='object')\n",
      "  name  kor  eng  mat\n",
      "0   둘리   90   90   90\n",
      "1   또치   80   80   80\n",
      "2  도우너   70   70   70\n",
      "3  희동이   90   80   70\n",
      "4  마이콜   60   50   50\n"
     ]
    }
   ],
   "source": [
    "data2=pd.read_csv('./data/score_noheader.csv',header=None)\n",
    "print(data2.columns)\n",
    "print(data2.index)\n",
    "print(\"칼럼명 추가 ---------\")\n",
    "data2.columns=['name','kor','eng','mat']\n",
    "print(data2.columns)\n",
    "print(data2)"
   ]
  },
  {
   "cell_type": "code",
   "execution_count": 32,
   "id": "330210b7-b8e4-4b1f-8064-30f7d5ce841f",
   "metadata": {},
   "outputs": [
    {
     "name": "stdout",
     "output_type": "stream",
     "text": [
      "  name  kor  eng  mat\n",
      "0   둘리   90   90   90\n",
      "1   또치   80   80   80\n",
      "2  도우너   70   70   70\n",
      "3  희동이   90   80   70\n",
      "4  마이콜   60   50   50\n",
      "Index(['name', 'kor', 'eng', 'mat'], dtype='object')\n",
      "RangeIndex(start=0, stop=5, step=1)\n",
      "  name  kor  eng  mat  total   avg\n",
      "0   둘리   90   90   90    270 90.00\n",
      "1   또치   80   80   80    240 80.00\n",
      "2  도우너   70   70   70    210 70.00\n",
      "3  희동이   90   80   70    240 80.00\n",
      "4  마이콜   60   50   50    160 53.33\n"
     ]
    }
   ],
   "source": [
    "data3=pd.read_csv('./data/score_header.csv',header=3)\n",
    "print(data3)\n",
    "print(data3.columns)\n",
    "print(data3.index)\n",
    "total=data3['eng']+data3['kor']+data3['mat']\n",
    "data3['total']=total\n",
    "data3['avg']=total/3\n",
    "pd.options.display.float_format = '{:.2f}'.format\n",
    "print(data3)\n",
    "data4=pd.concat([data3,data3,data3],axis=0)\n",
    "data4['avg']=round(data4['avg'],2)\n",
    "# print(data4)\n",
    "data4.to_csv(\"output/score_result.csv\",index=False,header=False)"
   ]
  },
  {
   "cell_type": "code",
   "execution_count": 38,
   "id": "5a06bcea-8757-4688-bc95-534c3431e5f5",
   "metadata": {},
   "outputs": [
    {
     "name": "stdout",
     "output_type": "stream",
     "text": [
      "  name  kor  eng  mat\n",
      "0   둘리   90   90   90\n",
      "1   또치   80   80   80\n",
      "2  도우너   70   70   70\n",
      "3  희동이   90   80   70\n",
      "4  마이콜   60   50   50\n",
      "5  고길동   90   90    0\n",
      "  name  kor  eng  mat  total   avg\n",
      "0   둘리   90   90   90    270 90.00\n",
      "1   또치   80   80   80    240 80.00\n",
      "2  도우너   70   70   70    210 70.00\n",
      "3  희동이   90   80   70    240 80.00\n",
      "4  마이콜   60   50   50    160 53.33\n",
      "5  고길동   90   90    0    180 60.00\n"
     ]
    }
   ],
   "source": [
    "data5=pd.read_excel('./data/score.xlsx')\n",
    "print(data5)\n",
    "total=data5['eng']+data5['kor']+data5['mat']\n",
    "data5['total']=total\n",
    "data5['avg']=round(total/3,2)\n",
    "print(data5)\n",
    "data5.to_excel(\"output/score_result1.xlsx\",index=True)\n",
    "data5.to_excel(\"output/score_result2.xlsx\",index=False)"
   ]
  },
  {
   "cell_type": "code",
   "execution_count": 54,
   "id": "e616e60a-e6f5-4158-90b5-2591bd759e42",
   "metadata": {
    "collapsed": true,
    "jupyter": {
     "outputs_hidden": true
    },
    "tags": []
   },
   "outputs": [
    {
     "name": "stdout",
     "output_type": "stream",
     "text": [
      "<class 'pandas.core.frame.DataFrame'>\n",
      "RangeIndex: 24 entries, 0 to 23\n",
      "Data columns (total 4 columns):\n",
      " #   Column  Non-Null Count  Dtype\n",
      "---  ------  --------------  -----\n",
      " 0   year    24 non-null     int64\n",
      " 1   item1   24 non-null     int64\n",
      " 2   item2   24 non-null     int64\n",
      " 3   item3   24 non-null     int64\n",
      "dtypes: int64(4)\n",
      "memory usage: 896.0 bytes\n",
      "None\n",
      "앞에서 부터 5개만 미리 보기\n",
      "   year  item1  item2  item3\n",
      "0  1990     95     20     15\n",
      "1  1991     65     10     35\n",
      "2  1992     45     30     90\n",
      "3  1993     10     40     70\n",
      "4  1994     22     50     50\n",
      "뒤에서 부터 5개만 미리 보기\n",
      "    year  item1  item2  item3\n",
      "19  2009     99     90     70\n",
      "20  2010     75     85     45\n",
      "21  2011     22     42     22\n",
      "22  2012     63     13     30\n",
      "23  2013     80     40     90\n",
      "앞에서 부터 10개만 미리 보기\n",
      "    year  item1  item2  item3\n",
      "0   1990     95     20     15\n",
      "1   1991     65     10     35\n",
      "2   1992     45     30     90\n",
      "3   1993     10     40     70\n",
      "4   1994     22     50     50\n",
      "5   1995     35     70     30\n",
      "6   1996     40     80     25\n",
      "7   1997     25     90     75\n",
      "8   1998     15     57     95\n",
      "9   1999     45     79     33\n",
      "10  2000     75     20     55\n",
      "11  2001     55     40     15\n",
      "12  2002     30     50     20\n",
      "13  2003     20     10     80\n",
      "14  2004     10     90     50\n",
      "15  2005     47     77     27\n",
      "16  2006     65     55     45\n",
      "17  2007      8     48     58\n",
      "18  2008     64     64     84\n",
      "(24, 4)\n",
      "행의 개수 : 24, 열의 개수 : 4\n"
     ]
    }
   ],
   "source": [
    "data6=pd.read_json('./data/mydata.json')\n",
    "print(data6.info())\n",
    "print(\"앞에서 부터 5개만 미리 보기\")\n",
    "print(data6.head())\n",
    "print(\"뒤에서 부터 5개만 미리 보기\")\n",
    "print(data6.tail())\n",
    "print(\"앞에서 부터 10개만 미리 보기\")\n",
    "print(data6.head(19))\n",
    "print(data6.shape)\n",
    "print(f'행의 개수 : {data6.shape[0]}, 열의 개수 : {data6.shape[1]}')"
   ]
  },
  {
   "cell_type": "code",
   "execution_count": 58,
   "id": "9fb38312-a302-46b8-bf71-0a1c538c9ef5",
   "metadata": {},
   "outputs": [
    {
     "name": "stdout",
     "output_type": "stream",
     "text": [
      "앞에서 부터 3개만 미리 보기\n",
      "    mpg  cylinders  displacement  horsepower  weight  acceleration  model-year\n",
      "0 18.00          8        307.00      130.00    3504         12.00          70\n",
      "1 15.00          8        350.00      165.00    3693         11.50          70\n",
      "2 18.00          8        318.00      150.00    3436         11.00          70\n",
      "(398, 7)\n",
      "행의 개수  398\n",
      "열의 개수  7\n",
      "기술통계 정보 요약\n",
      "         mpg  cylinders  displacement  horsepower  weight  acceleration  \\\n",
      "count 398.00     398.00        398.00      396.00  398.00        398.00   \n",
      "mean   23.51       5.45        193.43      104.19 2970.42         15.57   \n",
      "std     7.82       1.70        104.27       38.40  846.84          2.76   \n",
      "min     9.00       3.00         68.00       46.00 1613.00          8.00   \n",
      "25%    17.50       4.00        104.25       75.00 2223.75         13.83   \n",
      "50%    23.00       4.00        148.50       92.00 2803.50         15.50   \n",
      "75%    29.00       8.00        262.00      125.00 3608.00         17.17   \n",
      "max    46.60       8.00        455.00      230.00 5140.00         24.80   \n",
      "\n",
      "       model-year  \n",
      "count      398.00  \n",
      "mean        76.01  \n",
      "std          3.70  \n",
      "min         70.00  \n",
      "25%         73.00  \n",
      "50%         76.00  \n",
      "75%         79.00  \n",
      "max         82.00  \n"
     ]
    }
   ],
   "source": [
    "data7=pd.read_csv('./data/mpgdata.csv')\n",
    "print(\"앞에서 부터 3개만 미리 보기\")\n",
    "print(data7.head(3))\n",
    "print(data7.shape)\n",
    "print(f'행의 개수  {data7.shape[0]}\\n열의 개수  {data7.shape[1]}')\n",
    "print(\"기술통계 정보 요약\")\n",
    "print(data7.describe())"
   ]
  },
  {
   "cell_type": "code",
   "execution_count": null,
   "id": "5874cc8a-42b6-4abe-88ae-20cb1463a3d4",
   "metadata": {},
   "outputs": [],
   "source": []
  }
 ],
 "metadata": {
  "kernelspec": {
   "display_name": "pydatavenv",
   "language": "python",
   "name": "pydatavenv"
  },
  "language_info": {
   "codemirror_mode": {
    "name": "ipython",
    "version": 3
   },
   "file_extension": ".py",
   "mimetype": "text/x-python",
   "name": "python",
   "nbconvert_exporter": "python",
   "pygments_lexer": "ipython3",
   "version": "3.9.12"
  }
 },
 "nbformat": 4,
 "nbformat_minor": 5
}
